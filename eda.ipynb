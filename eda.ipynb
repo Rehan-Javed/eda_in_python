{
 "cells": [
  {
   "cell_type": "markdown",
   "id": "bc9ffc3a-c14a-4601-9fba-2089eddce5b2",
   "metadata": {},
   "source": [
    "# Exploratory Data Analysis in Python"
   ]
  },
  {
   "cell_type": "markdown",
   "id": "da4c39e6-fc57-4e7c-a4f5-a3052eca6501",
   "metadata": {},
   "source": [
    "--- "
   ]
  },
  {
   "cell_type": "markdown",
   "id": "9b56729b-08ff-47c6-a9f9-26d955bddcc4",
   "metadata": {},
   "source": [
    "## Contents"
   ]
  },
  {
   "cell_type": "markdown",
   "id": "9742ce18-3059-4e7d-864c-e7f69e8d4c55",
   "metadata": {},
   "source": [
    "### [Chapter 1. Read, Clean and Validate](#section_ID_1)\n",
    "\n",
    "### [Chapter 2. Distributions](#section_ID_2)\n",
    "\n",
    "### [Chapter 3. Relationships](#section_ID_3)\n",
    "\n",
    "### [Chapter 4. Multivariate Thinking](#section_ID_4)"
   ]
  },
  {
   "cell_type": "markdown",
   "id": "52e07927-9698-4282-9199-10f2ed5d0ef0",
   "metadata": {},
   "source": [
    "--- "
   ]
  },
  {
   "cell_type": "markdown",
   "id": "3a238d68-580b-42dc-a8a8-f6c1cb9c6649",
   "metadata": {},
   "source": [
    "<a id=\"section_ID_1\"></a>\n",
    "\n",
    "\n",
    "## 1. Read, Clean and Validate"
   ]
  },
  {
   "cell_type": "code",
   "execution_count": 83,
   "id": "a9c3dbe4-b65f-4f0c-8591-dc96d6ace33c",
   "metadata": {},
   "outputs": [],
   "source": [
    "import pandas as pd\n",
    "import numpy as np\n",
    "import matplotlib.pyplot as plt\n",
    "import seaborn as sns"
   ]
  },
  {
   "cell_type": "code",
   "execution_count": 19,
   "id": "87cf202e-7575-4988-9618-a7ed18cfc3b1",
   "metadata": {
    "tags": []
   },
   "outputs": [],
   "source": [
    "# to overcome the error Missing optional dependency 'tables'.  Use pip or conda to install tables.\n",
    "\n",
    "# conda install pytables\n"
   ]
  },
  {
   "cell_type": "code",
   "execution_count": 87,
   "id": "f8a6e10b-96cc-4023-bc61-d85db757c1b9",
   "metadata": {},
   "outputs": [],
   "source": [
    "# read the dataset from hdf5 file and assign to nsfg\n",
    "\n",
    "nsfg = pd.read_hdf('nsfg.hdf5')"
   ]
  },
  {
   "cell_type": "markdown",
   "id": "f8189314-4f85-459c-a2d3-04f321ca70b6",
   "metadata": {},
   "source": [
    "<div class=\"alert alert-block alert-warning\">\n",
    "<b>1.1 Exploring the NSFG data</b> \n",
    "\n",
    "</div>"
   ]
  },
  {
   "cell_type": "markdown",
   "id": "61a723c4-9a83-43ae-bb62-13e9f85dfeb2",
   "metadata": {},
   "source": [
    "##### <font color='navy'> Display the names of the rows and columns. </font>\n"
   ]
  },
  {
   "cell_type": "code",
   "execution_count": 89,
   "id": "aa17b3e5-c467-4af4-8fbe-cb8a5a743009",
   "metadata": {},
   "outputs": [
    {
     "data": {
      "text/plain": [
       "(9358, 10)"
      ]
     },
     "execution_count": 89,
     "metadata": {},
     "output_type": "execute_result"
    }
   ],
   "source": [
    "# Display the number of rows and columns\n",
    "nsfg.shape"
   ]
  },
  {
   "cell_type": "markdown",
   "id": "786428fe-82b8-405f-bf06-37583ed39d02",
   "metadata": {},
   "source": [
    "- ##### <font color='navy'> Display the names of the columns in nsfg. </font>\n"
   ]
  },
  {
   "cell_type": "code",
   "execution_count": 90,
   "id": "4521bb61-1d0a-448e-8d30-4d359f52d03a",
   "metadata": {},
   "outputs": [
    {
     "data": {
      "text/plain": [
       "Index(['caseid', 'outcome', 'birthwgt_lb1', 'birthwgt_oz1', 'prglngth',\n",
       "       'nbrnaliv', 'agecon', 'agepreg', 'hpagelb', 'wgt2013_2015'],\n",
       "      dtype='object')"
      ]
     },
     "execution_count": 90,
     "metadata": {},
     "output_type": "execute_result"
    }
   ],
   "source": [
    "nsfg.columns"
   ]
  },
  {
   "cell_type": "markdown",
   "id": "fb723897-e4bf-4ecc-b2f9-47ed3cf69901",
   "metadata": {},
   "source": [
    "- ##### <font color='navy'> Display the first 5 columns in nsfg. </font>\n"
   ]
  },
  {
   "cell_type": "code",
   "execution_count": 4,
   "id": "eabf1db4-e61d-4d76-afb0-cdfa31e9de19",
   "metadata": {},
   "outputs": [
    {
     "data": {
      "text/html": [
       "<div>\n",
       "<style scoped>\n",
       "    .dataframe tbody tr th:only-of-type {\n",
       "        vertical-align: middle;\n",
       "    }\n",
       "\n",
       "    .dataframe tbody tr th {\n",
       "        vertical-align: top;\n",
       "    }\n",
       "\n",
       "    .dataframe thead th {\n",
       "        text-align: right;\n",
       "    }\n",
       "</style>\n",
       "<table border=\"1\" class=\"dataframe\">\n",
       "  <thead>\n",
       "    <tr style=\"text-align: right;\">\n",
       "      <th></th>\n",
       "      <th>caseid</th>\n",
       "      <th>outcome</th>\n",
       "      <th>birthwgt_lb1</th>\n",
       "      <th>birthwgt_oz1</th>\n",
       "      <th>prglngth</th>\n",
       "      <th>nbrnaliv</th>\n",
       "      <th>agecon</th>\n",
       "      <th>agepreg</th>\n",
       "      <th>hpagelb</th>\n",
       "      <th>wgt2013_2015</th>\n",
       "    </tr>\n",
       "  </thead>\n",
       "  <tbody>\n",
       "    <tr>\n",
       "      <th>0</th>\n",
       "      <td>60418</td>\n",
       "      <td>1</td>\n",
       "      <td>5.0</td>\n",
       "      <td>4.0</td>\n",
       "      <td>40</td>\n",
       "      <td>1.0</td>\n",
       "      <td>2000</td>\n",
       "      <td>2075.0</td>\n",
       "      <td>22.0</td>\n",
       "      <td>3554.964843</td>\n",
       "    </tr>\n",
       "    <tr>\n",
       "      <th>1</th>\n",
       "      <td>60418</td>\n",
       "      <td>1</td>\n",
       "      <td>4.0</td>\n",
       "      <td>12.0</td>\n",
       "      <td>36</td>\n",
       "      <td>1.0</td>\n",
       "      <td>2291</td>\n",
       "      <td>2358.0</td>\n",
       "      <td>25.0</td>\n",
       "      <td>3554.964843</td>\n",
       "    </tr>\n",
       "    <tr>\n",
       "      <th>2</th>\n",
       "      <td>60418</td>\n",
       "      <td>1</td>\n",
       "      <td>5.0</td>\n",
       "      <td>4.0</td>\n",
       "      <td>36</td>\n",
       "      <td>1.0</td>\n",
       "      <td>3241</td>\n",
       "      <td>3308.0</td>\n",
       "      <td>52.0</td>\n",
       "      <td>3554.964843</td>\n",
       "    </tr>\n",
       "    <tr>\n",
       "      <th>3</th>\n",
       "      <td>60419</td>\n",
       "      <td>6</td>\n",
       "      <td>NaN</td>\n",
       "      <td>NaN</td>\n",
       "      <td>33</td>\n",
       "      <td>NaN</td>\n",
       "      <td>3650</td>\n",
       "      <td>NaN</td>\n",
       "      <td>NaN</td>\n",
       "      <td>2484.535358</td>\n",
       "    </tr>\n",
       "    <tr>\n",
       "      <th>4</th>\n",
       "      <td>60420</td>\n",
       "      <td>1</td>\n",
       "      <td>8.0</td>\n",
       "      <td>13.0</td>\n",
       "      <td>41</td>\n",
       "      <td>1.0</td>\n",
       "      <td>2191</td>\n",
       "      <td>2266.0</td>\n",
       "      <td>24.0</td>\n",
       "      <td>2903.782914</td>\n",
       "    </tr>\n",
       "  </tbody>\n",
       "</table>\n",
       "</div>"
      ],
      "text/plain": [
       "   caseid  outcome  birthwgt_lb1  birthwgt_oz1  prglngth  nbrnaliv  agecon  \\\n",
       "0   60418        1           5.0           4.0        40       1.0    2000   \n",
       "1   60418        1           4.0          12.0        36       1.0    2291   \n",
       "2   60418        1           5.0           4.0        36       1.0    3241   \n",
       "3   60419        6           NaN           NaN        33       NaN    3650   \n",
       "4   60420        1           8.0          13.0        41       1.0    2191   \n",
       "\n",
       "   agepreg  hpagelb  wgt2013_2015  \n",
       "0   2075.0     22.0   3554.964843  \n",
       "1   2358.0     25.0   3554.964843  \n",
       "2   3308.0     52.0   3554.964843  \n",
       "3      NaN      NaN   2484.535358  \n",
       "4   2266.0     24.0   2903.782914  "
      ]
     },
     "execution_count": 4,
     "metadata": {},
     "output_type": "execute_result"
    }
   ],
   "source": [
    "nsfg.head()"
   ]
  },
  {
   "cell_type": "markdown",
   "id": "22875a65-4f54-4e35-ad70-5182b9ad2125",
   "metadata": {},
   "source": [
    "- ##### <font color='navy'> Select the column 'birthwgt_oz1' and assign it to a new variable called ounces. </font>\n"
   ]
  },
  {
   "cell_type": "markdown",
   "id": "c52b7b10-030f-4190-8bba-3ce816f2e97e",
   "metadata": {},
   "source": [
    "There are two ways of selecting the columns and the dot notation is easy because it saves time from typing whole name (press tab)"
   ]
  },
  {
   "cell_type": "markdown",
   "id": "faaff659-b30c-448e-bd35-e979b633bc59",
   "metadata": {},
   "source": [
    "<div class=\"alert alert-block alert-info\">\n",
    "<b>External Resource : When to use bracket notation and when to use dot notation ?</b> \n",
    "\n",
    "    \n",
    "\n",
    "    \n",
    " \n",
    "    \n",
    "https://www.dataschool.io/pandas-dot-notation-vs-brackets/    \n",
    "\n",
    "</div>"
   ]
  },
  {
   "cell_type": "code",
   "execution_count": 91,
   "id": "3579fc0c-7ce1-42f3-a7d0-6ba63a300fc1",
   "metadata": {},
   "outputs": [],
   "source": [
    "ounces = nsfg['birthwgt_oz1']\n",
    "\n",
    "ounces = nsfg.birthwgt_oz1\n"
   ]
  },
  {
   "cell_type": "markdown",
   "id": "202d629f-93a9-4ed5-9aca-a724bebe38fc",
   "metadata": {},
   "source": [
    "- ##### <font color='navy'> Display the first 5 elements of ounces. </font>\n"
   ]
  },
  {
   "cell_type": "code",
   "execution_count": 6,
   "id": "367bd918-c591-4c9d-937b-6ecca78d644b",
   "metadata": {},
   "outputs": [
    {
     "name": "stdout",
     "output_type": "stream",
     "text": [
      "0     4.0\n",
      "1    12.0\n",
      "2     4.0\n",
      "3     NaN\n",
      "4    13.0\n",
      "Name: birthwgt_oz1, dtype: float64\n"
     ]
    }
   ],
   "source": [
    "# Print the first 5 elements of ounces\n",
    "print(ounces.head())"
   ]
  },
  {
   "cell_type": "markdown",
   "id": "9b3bb7bf-3894-453a-942f-0c4c91bdcebc",
   "metadata": {},
   "source": [
    "<div class=\"alert alert-block alert-warning\">\n",
    "<b>1.2 Validate a variable</b> \n",
    "\n",
    "</div>"
   ]
  },
  {
   "cell_type": "markdown",
   "id": "2f0df663-75f7-4f16-98c5-31f89dffeda1",
   "metadata": {},
   "source": [
    "- ##### <font color='navy'> How many pregnancies in this dataset ended with a live birth?</font>\n"
   ]
  },
  {
   "cell_type": "markdown",
   "id": "560de8bb-1151-4e4e-861b-79c99664509f",
   "metadata": {},
   "source": [
    "In the NSFG dataset, the variable 'outcome' encodes the outcome of each pregnancy as shown below:\n",
    "\n",
    "| Value      | Label |\n",
    "| ----------- | ----------- |\n",
    "| 1   | Live birth       |\n",
    "| 2   | Induced abortion        |\n",
    "| 3   | Still birth        |\n",
    "| 4   | Misscarriage        |\n",
    "| 5   | Ectopic pregnancy        |\n",
    "| 6   | Current pregnancy        |\n",
    "\n"
   ]
  },
  {
   "cell_type": "code",
   "execution_count": 7,
   "id": "b7dce629-7d50-4b25-8489-b1f098c10856",
   "metadata": {},
   "outputs": [
    {
     "data": {
      "text/plain": [
       "1    6489\n",
       "2     947\n",
       "3      86\n",
       "4    1469\n",
       "5     118\n",
       "6     249\n",
       "Name: outcome, dtype: int64"
      ]
     },
     "execution_count": 7,
     "metadata": {},
     "output_type": "execute_result"
    }
   ],
   "source": [
    "nsfg.outcome.value_counts().sort_index()"
   ]
  },
  {
   "cell_type": "markdown",
   "id": "cae552c3-c448-4939-9f1f-58aa08e6f86e",
   "metadata": {},
   "source": [
    "<div class=\"alert alert-block alert-success\">\n",
    "<b>Outcome : </b> The above code shows that there were 6489 live births !\n",
    "</div>"
   ]
  },
  {
   "cell_type": "markdown",
   "id": "6cd33cec-fc21-4b46-afff-53e2f92a1d71",
   "metadata": {},
   "source": [
    "<div class=\"alert alert-block alert-warning\">\n",
    "<b>1.3 Clean a variable</b> \n",
    "\n",
    "</div>"
   ]
  },
  {
   "cell_type": "markdown",
   "id": "7471f8c9-ec7e-4944-9fec-00feca765211",
   "metadata": {},
   "source": [
    "In the NSFG dataset, the variable 'nbrnaliv' records the number of babies born alive at the end of a pregnancy.\n",
    "\n",
    "As shown below, if you use .value_counts() to view the responses, you'll see that the value 8 appears once, and if you consult the codebook, you'll see that this value indicates that the respondent refused to answer the question."
   ]
  },
  {
   "cell_type": "markdown",
   "id": "723911bd-2216-4eaa-916c-0d70c4ec15d2",
   "metadata": {},
   "source": [
    "- ##### <font color='navy'> use .value_counts() to view the responses, you'll see that the value 8 appears once</font>\n"
   ]
  },
  {
   "cell_type": "code",
   "execution_count": 92,
   "id": "f11c8fca-d6bc-41da-8a89-4cbf624a7b5f",
   "metadata": {},
   "outputs": [
    {
     "data": {
      "text/plain": [
       "1.0    6379\n",
       "2.0     100\n",
       "3.0       5\n",
       "8.0       1\n",
       "Name: nbrnaliv, dtype: int64"
      ]
     },
     "execution_count": 92,
     "metadata": {},
     "output_type": "execute_result"
    }
   ],
   "source": [
    "nsfg.nbrnaliv.value_counts()"
   ]
  },
  {
   "cell_type": "markdown",
   "id": "ba65c039-ce62-4480-89de-2fb019f06536",
   "metadata": {},
   "source": [
    "- ##### <font color='navy'> Your job in this exercise is to replace this value with np.nan.</font>\n"
   ]
  },
  {
   "cell_type": "code",
   "execution_count": 9,
   "id": "251c949b-587b-49cf-9108-5d7a96ae13b2",
   "metadata": {},
   "outputs": [],
   "source": [
    "# Replace the value 8 with NaN\n",
    "nsfg['nbrnaliv'].replace([8], np.nan, inplace=True)"
   ]
  },
  {
   "cell_type": "code",
   "execution_count": 10,
   "id": "f1e72d1a-c536-43e0-b9ad-7f866bb51df4",
   "metadata": {},
   "outputs": [],
   "source": [
    "# Replace the value 8 with NaN\n",
    "nsfg.nbrnaliv.replace([8], np.nan, inplace=True)"
   ]
  },
  {
   "cell_type": "markdown",
   "id": "7641569d-22b6-41ff-9c63-5cae106a8dbc",
   "metadata": {},
   "source": [
    "- ##### <font color='navy'> Confirm that the value 8 no longer appears in this column by printing the values and their frequencies.</font>\n"
   ]
  },
  {
   "cell_type": "code",
   "execution_count": 11,
   "id": "63d2e317-b51e-45cd-b2d6-fc22688cb65d",
   "metadata": {},
   "outputs": [
    {
     "name": "stdout",
     "output_type": "stream",
     "text": [
      "1.0    6379\n",
      "2.0     100\n",
      "3.0       5\n",
      "Name: nbrnaliv, dtype: int64\n"
     ]
    }
   ],
   "source": [
    "# Print the values and their frequencies\n",
    "print(nsfg['nbrnaliv'].value_counts())"
   ]
  },
  {
   "cell_type": "markdown",
   "id": "689bb3b0-2d3a-4ef6-b61c-07fac3a1c83d",
   "metadata": {},
   "source": [
    "<div class=\"alert alert-block alert-success\">\n",
    "<b>Outcome : </b> The 8 has been replaced with nan values and nan values are not shown in .value_counts()\n",
    "</div>"
   ]
  },
  {
   "cell_type": "markdown",
   "id": "e227da89-183b-4d99-9717-80e33d6433e3",
   "metadata": {},
   "source": [
    "<div class=\"alert alert-block alert-warning\">\n",
    "<b>1.4 Compute a variable</b> \n",
    "\n",
    "</div>"
   ]
  },
  {
   "cell_type": "markdown",
   "id": "a92bfeec-1a69-406b-a51b-3504889ffc97",
   "metadata": {},
   "source": [
    "For each pregnancy in the NSFG dataset, the variable 'agecon' encodes the respondent's age at conception, and 'agepreg' the respondent's age at the end of the pregnancy.\n",
    "\n",
    "Both variables are recorded as integers with two implicit decimal places, so the value 2575 means that the respondent's age was 25.75.\n",
    "\n"
   ]
  },
  {
   "cell_type": "markdown",
   "id": "b0801a3d-365f-4cae-b110-b39ca773e863",
   "metadata": {},
   "source": [
    "- ##### <font color='navy'> Select 'agecon' and 'agepreg', divide them by 100, and assign them to the local variables agecon and agepreg.</font>\n"
   ]
  },
  {
   "cell_type": "code",
   "execution_count": 12,
   "id": "a2bbba00-9a4d-465c-b424-5fad58be0994",
   "metadata": {},
   "outputs": [],
   "source": [
    "# Select the columns and divide by 100\n",
    "\n",
    "agecon = nsfg.agecon / 100\n",
    "agepreg = nsfg.agepreg / 100"
   ]
  },
  {
   "cell_type": "markdown",
   "id": "a36f6b86-dd88-4f67-ba71-493a6e5837ac",
   "metadata": {},
   "source": [
    "- ##### <font color='navy'> Compute the difference, which is an estimate of the duration of the pregnancy. Keep in mind that for each pregnancy, agepreg will be larger than agecon.</font>\n"
   ]
  },
  {
   "cell_type": "code",
   "execution_count": 13,
   "id": "0004324f-b501-424f-822c-0691022d2bb1",
   "metadata": {},
   "outputs": [],
   "source": [
    "# Compute the difference\n",
    "preg_length = agepreg - agecon"
   ]
  },
  {
   "cell_type": "markdown",
   "id": "dcc2dd51-b43c-420f-ac0f-e077dc7eafdd",
   "metadata": {},
   "source": [
    "- ##### <font color='navy'> Use .describe() to compute the mean duration and other summary statistics. </font>\n"
   ]
  },
  {
   "cell_type": "code",
   "execution_count": 14,
   "id": "dd22cbc4-ffa9-411f-8737-886ca882d482",
   "metadata": {},
   "outputs": [
    {
     "data": {
      "text/plain": [
       "count    9109.000000\n",
       "mean        0.552069\n",
       "std         0.271479\n",
       "min         0.000000\n",
       "25%         0.250000\n",
       "50%         0.670000\n",
       "75%         0.750000\n",
       "max         0.920000\n",
       "dtype: float64"
      ]
     },
     "execution_count": 14,
     "metadata": {},
     "output_type": "execute_result"
    }
   ],
   "source": [
    "# Compute summary statistics\n",
    "preg_length.describe()"
   ]
  },
  {
   "cell_type": "markdown",
   "id": "e7618f16-d7b6-408b-8c3a-d66b69de43a1",
   "metadata": {},
   "source": [
    "<div class=\"alert alert-block alert-warning\">\n",
    "<b>1.5 Make a Histogram</b> \n",
    "\n",
    "</div>"
   ]
  },
  {
   "cell_type": "markdown",
   "id": "b4afc479-9373-4c4e-a570-e4e3ae9cd333",
   "metadata": {},
   "source": [
    "Histograms are one of the most useful tools in exploratory data analysis. They quickly give you an overview of the distribution of a variable, that is, what values the variable can have, and how many times each value appears.\n",
    "\n",
    "As we saw in a previous exercise, the NSFG dataset includes a variable 'agecon' that records age at conception for each pregnancy. \n",
    "\n",
    "Here, you're going to plot a histogram of this variable. "
   ]
  },
  {
   "cell_type": "markdown",
   "id": "31cc8cc3-4d24-49cd-99e0-48c000599387",
   "metadata": {},
   "source": [
    "- ##### <font color='navy'> Plot a histogram of agecon with 20 bins and set histtype to 'step'</font>\n"
   ]
  },
  {
   "cell_type": "code",
   "execution_count": 93,
   "id": "37eec4d0-7a10-4cf3-9f06-f20aa91abcf7",
   "metadata": {},
   "outputs": [
    {
     "data": {
      "image/png": "[encoded data removed]",
      "text/plain": [
       "<Figure size 1800x576 with 1 Axes>"
      ]
     },
     "metadata": {
      "needs_background": "light"
     },
     "output_type": "display_data"
    }
   ],
   "source": [
    "# Plot the histogram\n",
    "plt.hist(agecon, bins=20, histtype='step')\n",
    "\n",
    "# Label the axes\n",
    "plt.xlabel('Age at conception')\n",
    "plt.ylabel('Number of pregnancies')\n",
    "\n",
    "# Show the figure\n",
    "plt.show()"
   ]
  },
  {
   "cell_type": "markdown",
   "id": "d98230be-a590-40f7-ba87-1d56fa9c68f7",
   "metadata": {},
   "source": [
    "<div class=\"alert alert-block alert-success\">\n",
    "<b>Outcome : </b> Histogram with steps and bins=20\n",
    "</div>"
   ]
  },
  {
   "cell_type": "markdown",
   "id": "5b3c0e69-3eb7-4346-aa27-392067ae0c16",
   "metadata": {},
   "source": [
    "<div class=\"alert alert-block alert-warning\">\n",
    "<b>1.6 Compute Birth Weight</b> \n",
    "\n",
    "</div>"
   ]
  },
  {
   "cell_type": "markdown",
   "id": "b56cb0e5-dcca-4960-ae84-429b973c5266",
   "metadata": {},
   "source": [
    "Now let's pull together the steps in this chapter to compute the average birth weight for full-term babies.\n",
    "\n",
    "I've provided a function, resample_rows_weighted, that takes the NSFG data and resamples it using the sampling weights in wgt2013_2015. \n",
    "\n",
    "The result is a sample that is representative of the U.S. population.\n",
    "\n",
    "Then I extract birthwgt_lb1 and birthwgt_oz1, replace special codes with NaN, and compute total birth weight in pounds, birth_weight."
   ]
  },
  {
   "cell_type": "code",
   "execution_count": null,
   "id": "da212e7d-9c85-4a68-bb96-50948312904b",
   "metadata": {},
   "outputs": [],
   "source": []
  },
  {
   "cell_type": "markdown",
   "id": "eb04a999-c3b0-4a1c-b06e-7659ef1db18f",
   "metadata": {},
   "source": [
    "<div class=\"alert alert-block alert-danger\">\n",
    "<b>To Understand : </b> this function resample_rows_weighted needs to be understood\n",
    "</div>"
   ]
  },
  {
   "cell_type": "code",
   "execution_count": 16,
   "id": "78482f7c-bd8e-4dcc-a3a1-1bd93b08b362",
   "metadata": {},
   "outputs": [],
   "source": [
    "def resample_rows_weighted(df, column='finalwgt', seed=17):\n",
    "    \"\"\"Resamples a DataFrame using probabilities proportional to given column.\n",
    "\n",
    "    df: DataFrame\n",
    "    column: string column name to use as weights\n",
    "\n",
    "    returns: DataFrame\n",
    "    \"\"\"\n",
    "    np.random.seed(seed)\n",
    "    \n",
    "    weights = df[column] / sum(df[column])\n",
    "    \n",
    "    indices = np.random.choice(df.index, len(df), replace=True, p=weights)\n",
    "    \n",
    "    sample = df.loc[indices]\n",
    "    \n",
    "    return sample"
   ]
  },
  {
   "cell_type": "code",
   "execution_count": 52,
   "id": "009656c2-ddb1-4e5c-8031-b422a861b15f",
   "metadata": {},
   "outputs": [
    {
     "data": {
      "text/html": [
       "<div>\n",
       "<style scoped>\n",
       "    .dataframe tbody tr th:only-of-type {\n",
       "        vertical-align: middle;\n",
       "    }\n",
       "\n",
       "    .dataframe tbody tr th {\n",
       "        vertical-align: top;\n",
       "    }\n",
       "\n",
       "    .dataframe thead th {\n",
       "        text-align: right;\n",
       "    }\n",
       "</style>\n",
       "<table border=\"1\" class=\"dataframe\">\n",
       "  <thead>\n",
       "    <tr style=\"text-align: right;\">\n",
       "      <th></th>\n",
       "      <th>caseid</th>\n",
       "      <th>outcome</th>\n",
       "      <th>birthwgt_lb1</th>\n",
       "      <th>birthwgt_oz1</th>\n",
       "      <th>prglngth</th>\n",
       "      <th>nbrnaliv</th>\n",
       "      <th>agecon</th>\n",
       "      <th>agepreg</th>\n",
       "      <th>hpagelb</th>\n",
       "      <th>wgt2013_2015</th>\n",
       "    </tr>\n",
       "  </thead>\n",
       "  <tbody>\n",
       "    <tr>\n",
       "      <th>0</th>\n",
       "      <td>60418</td>\n",
       "      <td>1</td>\n",
       "      <td>5.0</td>\n",
       "      <td>4.0</td>\n",
       "      <td>40</td>\n",
       "      <td>1.0</td>\n",
       "      <td>2000</td>\n",
       "      <td>2075.0</td>\n",
       "      <td>22.0</td>\n",
       "      <td>3554.964843</td>\n",
       "    </tr>\n",
       "    <tr>\n",
       "      <th>1</th>\n",
       "      <td>60418</td>\n",
       "      <td>1</td>\n",
       "      <td>4.0</td>\n",
       "      <td>12.0</td>\n",
       "      <td>36</td>\n",
       "      <td>1.0</td>\n",
       "      <td>2291</td>\n",
       "      <td>2358.0</td>\n",
       "      <td>25.0</td>\n",
       "      <td>3554.964843</td>\n",
       "    </tr>\n",
       "    <tr>\n",
       "      <th>2</th>\n",
       "      <td>60418</td>\n",
       "      <td>1</td>\n",
       "      <td>5.0</td>\n",
       "      <td>4.0</td>\n",
       "      <td>36</td>\n",
       "      <td>1.0</td>\n",
       "      <td>3241</td>\n",
       "      <td>3308.0</td>\n",
       "      <td>52.0</td>\n",
       "      <td>3554.964843</td>\n",
       "    </tr>\n",
       "    <tr>\n",
       "      <th>3</th>\n",
       "      <td>60419</td>\n",
       "      <td>6</td>\n",
       "      <td>NaN</td>\n",
       "      <td>NaN</td>\n",
       "      <td>33</td>\n",
       "      <td>NaN</td>\n",
       "      <td>3650</td>\n",
       "      <td>NaN</td>\n",
       "      <td>NaN</td>\n",
       "      <td>2484.535358</td>\n",
       "    </tr>\n",
       "    <tr>\n",
       "      <th>4</th>\n",
       "      <td>60420</td>\n",
       "      <td>1</td>\n",
       "      <td>8.0</td>\n",
       "      <td>13.0</td>\n",
       "      <td>41</td>\n",
       "      <td>1.0</td>\n",
       "      <td>2191</td>\n",
       "      <td>2266.0</td>\n",
       "      <td>24.0</td>\n",
       "      <td>2903.782914</td>\n",
       "    </tr>\n",
       "  </tbody>\n",
       "</table>\n",
       "</div>"
      ],
      "text/plain": [
       "   caseid  outcome  birthwgt_lb1  birthwgt_oz1  prglngth  nbrnaliv  agecon  \\\n",
       "0   60418        1           5.0           4.0        40       1.0    2000   \n",
       "1   60418        1           4.0          12.0        36       1.0    2291   \n",
       "2   60418        1           5.0           4.0        36       1.0    3241   \n",
       "3   60419        6           NaN           NaN        33       NaN    3650   \n",
       "4   60420        1           8.0          13.0        41       1.0    2191   \n",
       "\n",
       "   agepreg  hpagelb  wgt2013_2015  \n",
       "0   2075.0     22.0   3554.964843  \n",
       "1   2358.0     25.0   3554.964843  \n",
       "2   3308.0     52.0   3554.964843  \n",
       "3      NaN      NaN   2484.535358  \n",
       "4   2266.0     24.0   2903.782914  "
      ]
     },
     "execution_count": 52,
     "metadata": {},
     "output_type": "execute_result"
    }
   ],
   "source": [
    "nsfg.head()"
   ]
  },
  {
   "cell_type": "code",
   "execution_count": 17,
   "id": "2a8fdd4a-27f2-4b81-8106-e8c499efdb37",
   "metadata": {},
   "outputs": [],
   "source": [
    "# Resample the data\n",
    "nsfg = resample_rows_weighted(nsfg, 'wgt2013_2015')\n"
   ]
  },
  {
   "cell_type": "code",
   "execution_count": 18,
   "id": "80edb17e-a00d-4db9-89a4-446188b0c95c",
   "metadata": {},
   "outputs": [],
   "source": [
    "# Clean the weight variables\n",
    "pounds = nsfg['birthwgt_lb1'].replace([98, 99], np.nan)\n",
    "ounces = nsfg['birthwgt_oz1'].replace([98, 99], np.nan)\n"
   ]
  },
  {
   "cell_type": "code",
   "execution_count": 19,
   "id": "e58209ee-2209-4048-834b-95bdc1d79630",
   "metadata": {},
   "outputs": [],
   "source": [
    "# Compute total birth weight\n",
    "birth_weight = pounds + ounces/16"
   ]
  },
  {
   "cell_type": "markdown",
   "id": "6f0ea180-d24e-4226-9494-8d64faaf3b96",
   "metadata": {},
   "source": [
    "--- "
   ]
  },
  {
   "cell_type": "markdown",
   "id": "ecd71962-afb2-422f-9fb1-3d661dad47b5",
   "metadata": {},
   "source": [
    "- ##### <font color='navy'> Make a Boolean Series called full_term that is true for babies with 'prglngth' greater than or equal to 37 weeks.</font>\n"
   ]
  },
  {
   "cell_type": "code",
   "execution_count": 94,
   "id": "819fe246-92f8-4d17-8138-f067e91df1e9",
   "metadata": {},
   "outputs": [],
   "source": [
    "# Create a Boolean Series for full-term babies\n",
    "full_term = nsfg.prglngth >= 37"
   ]
  },
  {
   "cell_type": "code",
   "execution_count": 95,
   "id": "46599b83-23c4-4946-95d5-dcf45ce99875",
   "metadata": {},
   "outputs": [
    {
     "data": {
      "text/plain": [
       "0     True\n",
       "1    False\n",
       "2    False\n",
       "3    False\n",
       "4     True\n",
       "Name: prglngth, dtype: bool"
      ]
     },
     "execution_count": 95,
     "metadata": {},
     "output_type": "execute_result"
    }
   ],
   "source": [
    "full_term.head()"
   ]
  },
  {
   "cell_type": "markdown",
   "id": "01fa0369-0a23-465d-8c57-9bf1b9bdbb12",
   "metadata": {},
   "source": [
    "- ##### <font color='navy'> Use full_term and birth_weight to select birth weight in pounds for full-term babies. Store the result in full_term_weight.\n",
    "</font>\n"
   ]
  },
  {
   "cell_type": "code",
   "execution_count": 96,
   "id": "ab293ce4-4dfc-4cc9-9f7b-ac6a6166dcf7",
   "metadata": {},
   "outputs": [],
   "source": [
    "# Select the weights of full-term babies\n",
    "full_term_weight = birth_weight[full_term]"
   ]
  },
  {
   "cell_type": "code",
   "execution_count": 97,
   "id": "a3ad8c76-7d08-482f-8e86-747bfe222155",
   "metadata": {},
   "outputs": [
    {
     "data": {
      "text/plain": [
       "4884    5.9375\n",
       "1667    7.5625\n",
       "633     7.3750\n",
       "7347    7.5625\n",
       "5331    8.8125\n",
       "dtype: float64"
      ]
     },
     "execution_count": 97,
     "metadata": {},
     "output_type": "execute_result"
    }
   ],
   "source": [
    "full_term_weight.head()"
   ]
  },
  {
   "cell_type": "markdown",
   "id": "18bbd71b-2d93-48e2-8926-fb4c7b3cd9b7",
   "metadata": {},
   "source": [
    "- ##### <font color='navy'> Compute the mean weight of full-term babies.</font>\n"
   ]
  },
  {
   "cell_type": "code",
   "execution_count": 98,
   "id": "6f7562e0-f180-4808-a6d2-f6444f116369",
   "metadata": {},
   "outputs": [
    {
     "name": "stdout",
     "output_type": "stream",
     "text": [
      "7.392597951914515\n"
     ]
    }
   ],
   "source": [
    "# Compute the mean weight of full-term babies\n",
    "print(full_term_weight.mean())"
   ]
  },
  {
   "cell_type": "markdown",
   "id": "9a2c6ebe-a530-4d1a-8d28-81162eb69ebb",
   "metadata": {},
   "source": [
    "<div class=\"alert alert-block alert-success\">\n",
    "<b>Outcome : </b> Mean weight of full term babies is taken here after the data has been resampled which needs to be understood ! There is no explanation of column 'wgt2013_2015' so maybe this needs reading the book in detail\n",
    "</div>"
   ]
  },
  {
   "cell_type": "markdown",
   "id": "45f9cf0c-2f5a-431d-a3e5-7f18f02ef0a1",
   "metadata": {},
   "source": [
    "<div class=\"alert alert-block alert-warning\">\n",
    "<b>1.7 Filter</b> \n",
    "\n",
    "</div>"
   ]
  },
  {
   "cell_type": "markdown",
   "id": "4c76f5be-5899-446c-bccf-ae6ee6e88a89",
   "metadata": {},
   "source": [
    "In the previous exercise, you computed the mean birth weight for full-term babies; you filtered out preterm babies because their distribution of weight is different.\n",
    "\n",
    "The distribution of weight is also different for multiple births, like twins and triplets. In this exercise, you'll filter them out, too, and see what effect it has on the mean.\n"
   ]
  },
  {
   "cell_type": "markdown",
   "id": "db81e800-70b7-4542-bcf6-1c30da7112eb",
   "metadata": {},
   "source": [
    "- ##### <font color='navy'> Use the variable 'nbrnaliv' to make a Boolean Series that is True for single births (where 'nbrnaliv' equals 1) and False otherwise.\n",
    "\n",
    "</font>\n"
   ]
  },
  {
   "cell_type": "code",
   "execution_count": 23,
   "id": "163b1e85-0f28-4f74-9452-b3fc9ce352f8",
   "metadata": {},
   "outputs": [],
   "source": [
    "# Filter full-term babies\n",
    "full_term = nsfg['prglngth'] >= 37\n",
    "\n",
    "# Filter single births\n",
    "single = nsfg['nbrnaliv'] == 1"
   ]
  },
  {
   "cell_type": "markdown",
   "id": "2400313b-a2ac-4257-8e25-a3b94a46626f",
   "metadata": {},
   "source": [
    "- full_term is showing babies who were born in or after 37 weeks\n",
    "\n",
    "- single is showing there was one baby born"
   ]
  },
  {
   "cell_type": "code",
   "execution_count": 24,
   "id": "c8717f8d-9d8f-4aad-b370-a378662d5a41",
   "metadata": {},
   "outputs": [
    {
     "data": {
      "text/plain": [
       "2707    False\n",
       "4884     True\n",
       "1667     True\n",
       "633      True\n",
       "7347     True\n",
       "Name: prglngth, dtype: bool"
      ]
     },
     "execution_count": 24,
     "metadata": {},
     "output_type": "execute_result"
    }
   ],
   "source": [
    "full_term.head()"
   ]
  },
  {
   "cell_type": "code",
   "execution_count": 25,
   "id": "1e44fc15-bc87-40d2-b612-49da1036ed6e",
   "metadata": {},
   "outputs": [
    {
     "data": {
      "text/plain": [
       "2707    False\n",
       "4884     True\n",
       "1667     True\n",
       "633      True\n",
       "7347     True\n",
       "Name: nbrnaliv, dtype: bool"
      ]
     },
     "execution_count": 25,
     "metadata": {},
     "output_type": "execute_result"
    }
   ],
   "source": [
    "single.head()"
   ]
  },
  {
   "cell_type": "markdown",
   "id": "3956ee3d-5316-4d6c-9a6f-e800b0fecb7f",
   "metadata": {},
   "source": [
    "- ##### <font color='navy'> Use Boolean Series and logical operators to select single, full-term babies and compute their mean birth weight.\n",
    "\n",
    "</font>\n"
   ]
  },
  {
   "cell_type": "code",
   "execution_count": 26,
   "id": "8d5bc5f3-dfcc-47f6-a45e-87321d6d5223",
   "metadata": {},
   "outputs": [
    {
     "name": "stdout",
     "output_type": "stream",
     "text": [
      "Single full-term mean: 7.40297320308299\n"
     ]
    }
   ],
   "source": [
    "# Compute birth weight for single full-term babies\n",
    "single_full_term_weight = birth_weight[full_term & single]\n",
    "print('Single full-term mean:', single_full_term_weight.mean())\n"
   ]
  },
  {
   "cell_type": "code",
   "execution_count": 27,
   "id": "755827e2-a693-430d-82a6-754a6bc51039",
   "metadata": {},
   "outputs": [
    {
     "data": {
      "text/plain": [
       "4884    5.9375\n",
       "1667    7.5625\n",
       "633     7.3750\n",
       "7347    7.5625\n",
       "5331    8.8125\n",
       "dtype: float64"
      ]
     },
     "execution_count": 27,
     "metadata": {},
     "output_type": "execute_result"
    }
   ],
   "source": [
    "single_full_term_weight.head()"
   ]
  },
  {
   "cell_type": "markdown",
   "id": "ddd11e08-3884-4144-9086-b4b870169215",
   "metadata": {},
   "source": [
    "- ##### <font color='navy'> For comparison, select multiple, full-term babies and compute their mean birth weight.\n",
    "\n",
    "</font>\n"
   ]
  },
  {
   "cell_type": "code",
   "execution_count": 28,
   "id": "5e3b869b-d030-4fc1-a7bd-d76cab71900e",
   "metadata": {},
   "outputs": [
    {
     "name": "stdout",
     "output_type": "stream",
     "text": [
      "Multiple full-term mean: 5.784722222222222\n"
     ]
    }
   ],
   "source": [
    "# Compute birth weight for multiple full-term babies\n",
    "mult_full_term_weight = birth_weight[full_term & ~single]\n",
    "\n",
    "print('Multiple full-term mean:', mult_full_term_weight.mean())"
   ]
  },
  {
   "cell_type": "markdown",
   "id": "53d905c0-8b22-465d-a399-25ba90ee5baf",
   "metadata": {},
   "source": [
    "<div class=\"alert alert-block alert-success\">\n",
    "<b>Outcome : </b> Two Boolean arrays were created; one for full length pregnancies i.e. >= 37 and another with one baby.  The mean was calculated for (full_length & onebaby and full_length + not(onebaby). It shows that the mean weight for one baby was 7.4 and for twins/triplets etc was 5.7\n",
    "</div>"
   ]
  },
  {
   "cell_type": "markdown",
   "id": "5b70cb78-656b-4208-9b1b-14c69b5486c0",
   "metadata": {},
   "source": [
    "<a id=\"section_ID_2\"></a>\n",
    "\n",
    "## 2. Distributions"
   ]
  },
  {
   "cell_type": "markdown",
   "id": "80bfc7d5-84df-455f-851a-b628b6289538",
   "metadata": {},
   "source": [
    "#### Background"
   ]
  },
  {
   "cell_type": "code",
   "execution_count": 3,
   "id": "3ad260c4-a810-4283-962b-7824d68afa22",
   "metadata": {},
   "outputs": [],
   "source": [
    "gss=pd.read_hdf('gss.hdf5', 'gss')"
   ]
  },
  {
   "cell_type": "code",
   "execution_count": 4,
   "id": "ef1d0426-68f3-4a14-83e8-6329c4d10d53",
   "metadata": {},
   "outputs": [
    {
     "data": {
      "text/html": [
       "<div>\n",
       "<style scoped>\n",
       "    .dataframe tbody tr th:only-of-type {\n",
       "        vertical-align: middle;\n",
       "    }\n",
       "\n",
       "    .dataframe tbody tr th {\n",
       "        vertical-align: top;\n",
       "    }\n",
       "\n",
       "    .dataframe thead th {\n",
       "        text-align: right;\n",
       "    }\n",
       "</style>\n",
       "<table border=\"1\" class=\"dataframe\">\n",
       "  <thead>\n",
       "    <tr style=\"text-align: right;\">\n",
       "      <th></th>\n",
       "      <th>year</th>\n",
       "      <th>age</th>\n",
       "      <th>cohort</th>\n",
       "      <th>sex</th>\n",
       "      <th>race</th>\n",
       "      <th>educ</th>\n",
       "      <th>realinc</th>\n",
       "      <th>gunlaw</th>\n",
       "      <th>grass</th>\n",
       "      <th>wtssall</th>\n",
       "    </tr>\n",
       "  </thead>\n",
       "  <tbody>\n",
       "    <tr>\n",
       "      <th>0</th>\n",
       "      <td>1972</td>\n",
       "      <td>26.0</td>\n",
       "      <td>1946.0</td>\n",
       "      <td>1</td>\n",
       "      <td>1</td>\n",
       "      <td>18.0</td>\n",
       "      <td>13537.0</td>\n",
       "      <td>2.0</td>\n",
       "      <td>NaN</td>\n",
       "      <td>0.8893</td>\n",
       "    </tr>\n",
       "    <tr>\n",
       "      <th>1</th>\n",
       "      <td>1972</td>\n",
       "      <td>38.0</td>\n",
       "      <td>1934.0</td>\n",
       "      <td>2</td>\n",
       "      <td>1</td>\n",
       "      <td>12.0</td>\n",
       "      <td>18951.0</td>\n",
       "      <td>1.0</td>\n",
       "      <td>NaN</td>\n",
       "      <td>0.4446</td>\n",
       "    </tr>\n",
       "    <tr>\n",
       "      <th>2</th>\n",
       "      <td>1972</td>\n",
       "      <td>57.0</td>\n",
       "      <td>1915.0</td>\n",
       "      <td>1</td>\n",
       "      <td>1</td>\n",
       "      <td>12.0</td>\n",
       "      <td>30458.0</td>\n",
       "      <td>1.0</td>\n",
       "      <td>NaN</td>\n",
       "      <td>1.3339</td>\n",
       "    </tr>\n",
       "    <tr>\n",
       "      <th>3</th>\n",
       "      <td>1972</td>\n",
       "      <td>61.0</td>\n",
       "      <td>1911.0</td>\n",
       "      <td>2</td>\n",
       "      <td>1</td>\n",
       "      <td>14.0</td>\n",
       "      <td>37226.0</td>\n",
       "      <td>1.0</td>\n",
       "      <td>NaN</td>\n",
       "      <td>0.8893</td>\n",
       "    </tr>\n",
       "    <tr>\n",
       "      <th>4</th>\n",
       "      <td>1972</td>\n",
       "      <td>59.0</td>\n",
       "      <td>1913.0</td>\n",
       "      <td>1</td>\n",
       "      <td>1</td>\n",
       "      <td>12.0</td>\n",
       "      <td>30458.0</td>\n",
       "      <td>2.0</td>\n",
       "      <td>NaN</td>\n",
       "      <td>0.8893</td>\n",
       "    </tr>\n",
       "  </tbody>\n",
       "</table>\n",
       "</div>"
      ],
      "text/plain": [
       "   year   age  cohort  sex  race  educ  realinc  gunlaw  grass  wtssall\n",
       "0  1972  26.0  1946.0    1     1  18.0  13537.0     2.0    NaN   0.8893\n",
       "1  1972  38.0  1934.0    2     1  12.0  18951.0     1.0    NaN   0.4446\n",
       "2  1972  57.0  1915.0    1     1  12.0  30458.0     1.0    NaN   1.3339\n",
       "3  1972  61.0  1911.0    2     1  14.0  37226.0     1.0    NaN   0.8893\n",
       "4  1972  59.0  1913.0    1     1  12.0  30458.0     2.0    NaN   0.8893"
      ]
     },
     "execution_count": 4,
     "metadata": {},
     "output_type": "execute_result"
    }
   ],
   "source": [
    "gss.head()"
   ]
  },
  {
   "cell_type": "code",
   "execution_count": 15,
   "id": "c2d51998-9073-414d-8a83-615506c1f93e",
   "metadata": {
    "tags": []
   },
   "outputs": [],
   "source": [
    "#pip install empiricaldist"
   ]
  },
  {
   "cell_type": "code",
   "execution_count": 7,
   "id": "1fbf4a9d-baca-481a-a7f0-4e7339d7e774",
   "metadata": {},
   "outputs": [],
   "source": [
    "from empiricaldist import Pmf\n",
    "from empiricaldist import Cdf"
   ]
  },
  {
   "cell_type": "code",
   "execution_count": 23,
   "id": "8989784f-19e3-4d8a-bf9a-fdc3cc62c671",
   "metadata": {},
   "outputs": [],
   "source": [
    "# Demo notebook : https://nbviewer.org/github/AllenDowney/empiricaldist/blob/master/empiricaldist/dist_demo.ipynb\n",
    "\n",
    "# this was the code used in the course, so the demo notebook has another code which would be used in the next row\n",
    "# pmf_educ = Pmf(educ, normalize=False)\n"
   ]
  },
  {
   "cell_type": "code",
   "execution_count": null,
   "id": "fdc21cc6-eade-451e-acf6-4a82b14eedf0",
   "metadata": {},
   "outputs": [],
   "source": []
  },
  {
   "cell_type": "markdown",
   "id": "4f3df09c-4d8d-4cb1-a439-96a52f6aae78",
   "metadata": {},
   "source": [
    "<div class=\"alert alert-block alert-warning\">\n",
    "<b>2.1 Make a PMF</b> \n",
    "\n",
    "</div>"
   ]
  },
  {
   "cell_type": "markdown",
   "id": "10c588fe-a9ca-4cf6-809d-33667aee0a4f",
   "metadata": {},
   "source": [
    "The GSS dataset has been pre-loaded for you into a DataFrame called gss. You can explore it in the IPython Shell to get familiar with it.\n",
    "\n",
    "In this exercise, you'll focus on one variable in this dataset, 'year', which represents the year each respondent was interviewed.\n",
    "\n",
    "The Pmf class you saw in the video has already been created for you. You can access it outside of DataCamp via the empiricaldist library.\n"
   ]
  },
  {
   "cell_type": "markdown",
   "id": "3a0bf167-6c3c-4640-b977-71e1c37b26f3",
   "metadata": {},
   "source": [
    "- ##### <font color='navy'> Make a PMF for year with normalize=False and display the result.\n",
    "\n",
    "</font>\n"
   ]
  },
  {
   "cell_type": "code",
   "execution_count": 9,
   "id": "bda6b73a-21c4-4aac-a012-f0bbc773b517",
   "metadata": {},
   "outputs": [
    {
     "name": "stdout",
     "output_type": "stream",
     "text": [
      "1972    1613\n",
      "1973    1504\n",
      "1974    1484\n",
      "1975    1490\n",
      "1976    1499\n",
      "1977    1530\n",
      "1978    1532\n",
      "1980    1468\n",
      "1982    1860\n",
      "1983    1599\n",
      "1984    1473\n",
      "1985    1534\n",
      "1986    1470\n",
      "1987    1819\n",
      "1988    1481\n",
      "1989    1537\n",
      "1990    1372\n",
      "1991    1517\n",
      "1993    1606\n",
      "1994    2992\n",
      "1996    2904\n",
      "1998    2832\n",
      "2000    2817\n",
      "2002    2765\n",
      "2004    2812\n",
      "2006    4510\n",
      "2008    2023\n",
      "2010    2044\n",
      "2012    1974\n",
      "2014    2538\n",
      "2016    2867\n",
      "Name: , dtype: int64\n"
     ]
    }
   ],
   "source": [
    "# Compute the PMF for year\n",
    "pmf_year = Pmf.from_seq(gss.year, normalize=False)\n",
    "\n",
    "# Print the result\n",
    "print(pmf_year)"
   ]
  },
  {
   "cell_type": "code",
   "execution_count": 19,
   "id": "d974ce15-c216-468f-bafd-80648ba84506",
   "metadata": {},
   "outputs": [
    {
     "name": "stdout",
     "output_type": "stream",
     "text": [
      "1972    0.025822\n",
      "1973    0.024077\n",
      "1974    0.023757\n",
      "1975    0.023853\n",
      "1976    0.023997\n",
      "1977    0.024493\n",
      "1978    0.024525\n",
      "1980    0.023501\n",
      "1982    0.029776\n",
      "1983    0.025598\n",
      "Name: , dtype: float64\n"
     ]
    }
   ],
   "source": [
    "# We can also do the above code with normalize=True\n",
    "pmf_year_norm = Pmf.from_seq(gss.year, normalize=True)\n",
    "\n",
    "# Print the result\n",
    "print(pmf_year_norm[:10])"
   ]
  },
  {
   "cell_type": "code",
   "execution_count": 18,
   "id": "2448bbfa-1d11-4184-9287-078d6f7b67f6",
   "metadata": {},
   "outputs": [
    {
     "data": {
      "text/plain": [
       "1972    2.582205\n",
       "1973    2.407710\n",
       "1974    2.375692\n",
       "1975    2.385298\n",
       "1976    2.399705\n",
       "1977    2.449332\n",
       "1978    2.452534\n",
       "1980    2.350078\n",
       "1982    2.977620\n",
       "1983    2.559793\n",
       "Name: , dtype: float64"
      ]
     },
     "execution_count": 18,
     "metadata": {},
     "output_type": "execute_result"
    }
   ],
   "source": [
    "pmf_year_perc = pmf_year_norm*100\n",
    "\n",
    "pmf_year_perc[:10]"
   ]
  },
  {
   "cell_type": "markdown",
   "id": "5d31d790-38fd-4dbb-8987-b28f7faf7ed0",
   "metadata": {},
   "source": [
    "Another way of looking is that 1972 has 2.58% of respondents etc !"
   ]
  },
  {
   "cell_type": "markdown",
   "id": "fba3fe5f-7f13-4247-9005-8ce98bf6ceca",
   "metadata": {},
   "source": [
    "<div class=\"alert alert-block alert-success\">\n",
    "<b>Outcome : </b> We can see the years and the number of respondants. For example, there were 1613 respondents which were interviewed in 1972 and 2867 respondents which were interviewed in 2016.\n",
    "</div>"
   ]
  },
  {
   "cell_type": "markdown",
   "id": "100a7b1e-924e-4006-97a5-d9def30a9895",
   "metadata": {},
   "source": [
    "<div class=\"alert alert-block alert-warning\">\n",
    "<b>2.2 Plot a PMF</b> \n",
    "\n",
    "</div>"
   ]
  },
  {
   "cell_type": "markdown",
   "id": "bbdb0621-93af-4e76-8e31-c4d2de6be7fd",
   "metadata": {},
   "source": [
    "- ##### <font color='navy'> Select the 'age' column from the gss DataFrame and store the result in age.\n",
    "\n",
    "</font>\n"
   ]
  },
  {
   "cell_type": "code",
   "execution_count": 20,
   "id": "3a40d365-84ac-4e2e-abd2-b55323a344ec",
   "metadata": {},
   "outputs": [],
   "source": [
    "# Select the age column\n",
    "age = gss['age']\n"
   ]
  },
  {
   "cell_type": "code",
   "execution_count": 27,
   "id": "e9d456ff-01a7-4d6d-96d0-c159c7fdb91b",
   "metadata": {},
   "outputs": [],
   "source": [
    "# to change the size of figures in matplotlib\n",
    "\n",
    "import matplotlib.pyplot as plt\n",
    "plt.rcParams[\"figure.figsize\"] = (25,12)"
   ]
  },
  {
   "cell_type": "markdown",
   "id": "429a5877-b69f-4d95-977d-6fa87cff4976",
   "metadata": {},
   "source": [
    "- ##### <font color='navy'> Make a normalized PMF of age. Store the result in pmf_age.\n",
    "\n",
    "</font>\n"
   ]
  },
  {
   "cell_type": "code",
   "execution_count": 28,
   "id": "cdd0399a-0d9e-4362-9917-e971c482ecc6",
   "metadata": {},
   "outputs": [],
   "source": [
    "# Make a PMF of age\n",
    "pmf_age = Pmf.from_seq(age, normalize=True)\n"
   ]
  },
  {
   "cell_type": "markdown",
   "id": "ca190f12-8110-46c4-abec-7aee59ce01b9",
   "metadata": {},
   "source": [
    "- ##### <font color='navy'> Plot pmf_age as a bar chart.\n",
    "</font>\n"
   ]
  },
  {
   "cell_type": "markdown",
   "id": "98d476e4-33ef-47e3-8ee9-877d5d890ca5",
   "metadata": {},
   "source": [
    "The functions used here to make the bar chart is in the class of empiricaldist which is made by Allen B.Downey"
   ]
  },
  {
   "cell_type": "code",
   "execution_count": 30,
   "id": "59573852-4cd7-4565-85b0-d10cd494724f",
   "metadata": {},
   "outputs": [
    {
     "data": {
      "image/png": "[encoded data removed]",
      "text/plain": [
       "<Figure size 1800x864 with 1 Axes>"
      ]
     },
     "metadata": {
      "needs_background": "light"
     },
     "output_type": "display_data"
    }
   ],
   "source": [
    "# Plot the PMF\n",
    "pmf_age.bar(label='age')\n",
    "\n",
    "# Label the axes\n",
    "plt.xlabel('Age')\n",
    "plt.ylabel('PMF')\n",
    "plt.show()"
   ]
  },
  {
   "cell_type": "markdown",
   "id": "84c0ebd8-b8d1-48f7-a25c-4c2a3b46d09e",
   "metadata": {},
   "source": [
    "<div class=\"alert alert-block alert-success\">\n",
    "<b>Outcome : </b> We have selected the age column, and then made pmf from it and displayed it using the car chart. The x axis shows the age and the y axis shows the fraction of that age in the dataset\n",
    "</div>"
   ]
  },
  {
   "cell_type": "markdown",
   "id": "09f0ae6b-94b4-491d-91bf-abe8f38a2e52",
   "metadata": {},
   "source": [
    "---"
   ]
  },
  {
   "cell_type": "markdown",
   "id": "6fb667bd-ed4f-46e5-924b-ea61f0106268",
   "metadata": {},
   "source": [
    "<div class=\"alert alert-block alert-warning\">\n",
    "<b>2.3 Make a CDF</b> \n",
    "\n",
    "</div>"
   ]
  },
  {
   "cell_type": "markdown",
   "id": "bcb7f90f-0458-49e4-aa9a-2ed2a5143326",
   "metadata": {},
   "source": [
    "- ##### <font color='navy'> Select the 'age' column. Store the result in age.\n",
    "\n",
    "</font>\n"
   ]
  },
  {
   "cell_type": "code",
   "execution_count": 31,
   "id": "355c4470-d498-4ab8-911c-ebad81d6b132",
   "metadata": {},
   "outputs": [],
   "source": [
    "# Select the age column\n",
    "age = gss['age']"
   ]
  },
  {
   "cell_type": "markdown",
   "id": "f9404168-942a-422d-a5da-e4627fd370d9",
   "metadata": {},
   "source": [
    "- ##### <font color='navy'> Compute the CDF of age. Store the result in cdf_age.\n",
    "\n",
    "\n",
    "</font>\n"
   ]
  },
  {
   "cell_type": "code",
   "execution_count": 32,
   "id": "98657730-ccf4-4b7b-90b7-104491851eca",
   "metadata": {},
   "outputs": [],
   "source": [
    "# Compute the CDF of age\n",
    "cdf_age = Cdf.from_seq(age)\n"
   ]
  },
  {
   "cell_type": "markdown",
   "id": "b454918f-4bdd-4d94-a891-3a56231fe58a",
   "metadata": {},
   "source": [
    "- ##### <font color='navy'> Calculate the CDF of 30.\n",
    "\n",
    "</font>\n"
   ]
  },
  {
   "cell_type": "code",
   "execution_count": 33,
   "id": "ae3abe53-4118-4be4-97a7-a6b83dd3ef03",
   "metadata": {},
   "outputs": [
    {
     "name": "stdout",
     "output_type": "stream",
     "text": [
      "0.2539137136526389\n"
     ]
    }
   ],
   "source": [
    "# Calculate the CDF of 30\n",
    "print(cdf_age(30))"
   ]
  },
  {
   "cell_type": "markdown",
   "id": "b3562b01-24ae-4901-954a-93eff3e6b208",
   "metadata": {},
   "source": [
    "This code above shows that 25.39% of population is equal or below age of 30"
   ]
  },
  {
   "cell_type": "markdown",
   "id": "4306e63e-d21e-495b-b5dc-86764070825f",
   "metadata": {},
   "source": [
    "- ##### <font color='navy'> What fraction of the respondents in the GSS are older than 30 ?\n",
    "\n",
    "</font>\n"
   ]
  },
  {
   "cell_type": "markdown",
   "id": "eb5bd753-5824-4be7-a811-a92603760e73",
   "metadata": {},
   "source": [
    "As there are 25.3% of population equal to or less than 30, there is approximately 75% of population which is older than 30 !"
   ]
  },
  {
   "cell_type": "markdown",
   "id": "65675810-3463-46c6-b31e-1093e5fc0208",
   "metadata": {},
   "source": [
    "<div class=\"alert alert-block alert-success\">\n",
    "<b>Outcome : </b> We have made the CDF of age now which stands for cumulative distribution function.\n",
    "</div>"
   ]
  },
  {
   "cell_type": "markdown",
   "id": "db8ed54d-790e-4435-8131-b0a89f6d6cf1",
   "metadata": {},
   "source": [
    "<div class=\"alert alert-block alert-warning\">\n",
    "<b>2.4 Compute IQR\n",
    "    </b> \n",
    "\n",
    "</div>"
   ]
  },
  {
   "cell_type": "markdown",
   "id": "bd69ac14-9f9f-4346-bd1f-a2ba670f3c31",
   "metadata": {},
   "source": [
    "Recall from the video that the interquartile range (IQR) is the difference between the 75th and 25th percentiles. It is a measure of variability that is robust in the presence of errors or extreme values.\n",
    "\n",
    "In this exercise, you'll compute the interquartile range of income in the GSS dataset. Income is stored in the 'realinc' column, and the CDF of income has already been computed and stored in cdf_income."
   ]
  },
  {
   "cell_type": "code",
   "execution_count": 36,
   "id": "2b500939-dba0-416e-b29c-c427b297f832",
   "metadata": {},
   "outputs": [],
   "source": [
    "income = gss.realinc"
   ]
  },
  {
   "cell_type": "code",
   "execution_count": 37,
   "id": "43e94349-0a9f-4092-84bb-a023d9c7713a",
   "metadata": {},
   "outputs": [],
   "source": [
    "cdf_income = Cdf.from_seq(income)"
   ]
  },
  {
   "cell_type": "markdown",
   "id": "8fb06172-1cf4-4818-9725-b3281e55acc9",
   "metadata": {},
   "source": [
    "- ##### <font color='navy'> Calculate the 75th percentile of income and store it in percentile_75th.\n",
    "\n",
    "\n",
    "\n",
    "</font>\n"
   ]
  },
  {
   "cell_type": "code",
   "execution_count": 43,
   "id": "f69b92b3-65d6-4c69-ad0e-269af4fbfd5e",
   "metadata": {},
   "outputs": [
    {
     "name": "stdout",
     "output_type": "stream",
     "text": [
      "43426.0\n"
     ]
    }
   ],
   "source": [
    "# Calculate the 75th percentile\n",
    "percentile_75th = cdf_income.inverse(0.75)\n",
    "\n",
    "print(percentile_75th)"
   ]
  },
  {
   "cell_type": "markdown",
   "id": "260a31d4-63cb-43e6-8281-0de846374c01",
   "metadata": {},
   "source": [
    "- ##### <font color='navy'>Calculate the 25th percentile of income and store it in percentile_25th.\n",
    "\n",
    "\n",
    "\n",
    "\n",
    "\n",
    "</font>\n"
   ]
  },
  {
   "cell_type": "code",
   "execution_count": 44,
   "id": "cff65a3c-3295-4ded-9582-901ffe1cdc48",
   "metadata": {},
   "outputs": [
    {
     "name": "stdout",
     "output_type": "stream",
     "text": [
      "13750.0\n"
     ]
    }
   ],
   "source": [
    "# Calculate the 25th percentile\n",
    "percentile_25th = cdf_income.inverse(0.25)\n",
    "print(percentile_25th)"
   ]
  },
  {
   "cell_type": "markdown",
   "id": "cc8efa22-7384-455e-af80-ef65110c2535",
   "metadata": {},
   "source": [
    "- ##### <font color='navy'> Calculate the interquartile range of income. Store the result in iqr.\n",
    "\n",
    "\n",
    "\n",
    "\n",
    "\n",
    "</font>\n"
   ]
  },
  {
   "cell_type": "code",
   "execution_count": 41,
   "id": "eb43eb60-abe7-4f45-8a40-1e9bff455d90",
   "metadata": {},
   "outputs": [
    {
     "name": "stdout",
     "output_type": "stream",
     "text": [
      "29676.0\n"
     ]
    }
   ],
   "source": [
    "# Calculate the interquartile range\n",
    "iqr = percentile_75th - percentile_25th\n",
    "\n",
    "# Print the interquartile range\n",
    "print(iqr)"
   ]
  },
  {
   "cell_type": "markdown",
   "id": "fe4c6725-1a04-42ed-a702-4803d741e272",
   "metadata": {},
   "source": [
    "- ##### <font color='navy'> Calculate the 75th percentile of income and store it in percentile_75th.\n",
    "\n",
    "\n",
    "\n",
    "</font>\n"
   ]
  },
  {
   "cell_type": "markdown",
   "id": "0e37953d-f25c-455e-9c1e-32ccc0490175",
   "metadata": {},
   "source": [
    "<div class=\"alert alert-block alert-warning\">\n",
    "<b>2.5 Plot a CDF\n",
    "    </b> \n",
    "\n",
    "</div>"
   ]
  },
  {
   "cell_type": "markdown",
   "id": "17a2e63e-165b-4002-948b-5adf320fab8c",
   "metadata": {},
   "source": [
    "The distribution of income in almost every country is long-tailed; that is, there are a small number of people with very high incomes.\n",
    "\n",
    "In the GSS dataset, the variable 'realinc' represents total household income, converted to 1986 dollars. We can get a sense of the shape of this distribution by plotting the CDF."
   ]
  },
  {
   "cell_type": "markdown",
   "id": "0de6f61e-6650-4729-926f-ee57513921ed",
   "metadata": {},
   "source": [
    "- ##### <font color='navy'> Select 'realinc' from the gss dataset.\n",
    "\n",
    "\n",
    "\n",
    "\n",
    "</font>\n"
   ]
  },
  {
   "cell_type": "code",
   "execution_count": 45,
   "id": "67e664f8-785d-4bb7-8ace-e70f7c127b7a",
   "metadata": {},
   "outputs": [],
   "source": [
    "# Select realinc\n",
    "income = gss.realinc"
   ]
  },
  {
   "cell_type": "markdown",
   "id": "63561944-7683-4ab5-a44a-11f54a76b043",
   "metadata": {},
   "source": [
    "- ##### <font color='navy'> Make a Cdf object called cdf_income.\n",
    "\n",
    "\n",
    "\n",
    "\n",
    "</font>\n"
   ]
  },
  {
   "cell_type": "code",
   "execution_count": 48,
   "id": "4a7835fe-9b5e-42c6-ac9d-dfc212d1b891",
   "metadata": {},
   "outputs": [],
   "source": [
    "# Make the CDF\n",
    "cdf_income = Cdf.from_seq(income)\n"
   ]
  },
  {
   "cell_type": "markdown",
   "id": "0c09eba8-2c10-46b5-8430-5c877f5be597",
   "metadata": {},
   "source": [
    "- ##### <font color='navy'> Create a plot of cdf_income using .plot().\n",
    "\n",
    "\n",
    "\n",
    "\n",
    "</font>\n"
   ]
  },
  {
   "cell_type": "code",
   "execution_count": 50,
   "id": "b90b850b-9030-4840-a451-c1fd58cda6c1",
   "metadata": {},
   "outputs": [
    {
     "data": {
      "image/png": "[encoded data removed]",
      "text/plain": [
       "<Figure size 1800x864 with 1 Axes>"
      ]
     },
     "metadata": {
      "needs_background": "light"
     },
     "output_type": "display_data"
    }
   ],
   "source": [
    "# Plot it using the empirical dist library\n",
    "cdf_income.plot()\n",
    "\n",
    "# Label the axes\n",
    "plt.xlabel('Income (1986 USD)')\n",
    "plt.ylabel('CDF')\n",
    "plt.show()"
   ]
  },
  {
   "cell_type": "markdown",
   "id": "923a43ef-c2b2-491b-aeb6-6642463ceabf",
   "metadata": {},
   "source": [
    "<div class=\"alert alert-block alert-warning\">\n",
    "<b>2.6 Distribution of education\n",
    "    </b> \n",
    "\n",
    "</div>"
   ]
  },
  {
   "cell_type": "markdown",
   "id": "e9c09422-645c-4def-a91d-9ac20e809571",
   "metadata": {},
   "source": [
    "Let's begin comparing incomes for different levels of education in the GSS dataset, which has been pre-loaded for you into a DataFrame called gss. The variable educ represents the respondent's years of education.\n"
   ]
  },
  {
   "cell_type": "markdown",
   "id": "4bf2d79c-0762-4d98-826d-47781519c138",
   "metadata": {},
   "source": [
    "- ##### <font color='navy'> What fraction of respondents report that they have 12 years of education or fewer?\n",
    "\n",
    "\n",
    "\n",
    "\n",
    "</font>\n"
   ]
  },
  {
   "cell_type": "code",
   "execution_count": 51,
   "id": "ac8492aa-540c-4e7a-a02c-4c301465baea",
   "metadata": {},
   "outputs": [
    {
     "data": {
      "text/html": [
       "<div>\n",
       "<style scoped>\n",
       "    .dataframe tbody tr th:only-of-type {\n",
       "        vertical-align: middle;\n",
       "    }\n",
       "\n",
       "    .dataframe tbody tr th {\n",
       "        vertical-align: top;\n",
       "    }\n",
       "\n",
       "    .dataframe thead th {\n",
       "        text-align: right;\n",
       "    }\n",
       "</style>\n",
       "<table border=\"1\" class=\"dataframe\">\n",
       "  <thead>\n",
       "    <tr style=\"text-align: right;\">\n",
       "      <th></th>\n",
       "      <th>year</th>\n",
       "      <th>age</th>\n",
       "      <th>cohort</th>\n",
       "      <th>sex</th>\n",
       "      <th>race</th>\n",
       "      <th>educ</th>\n",
       "      <th>realinc</th>\n",
       "      <th>gunlaw</th>\n",
       "      <th>grass</th>\n",
       "      <th>wtssall</th>\n",
       "    </tr>\n",
       "  </thead>\n",
       "  <tbody>\n",
       "    <tr>\n",
       "      <th>0</th>\n",
       "      <td>1972</td>\n",
       "      <td>26.0</td>\n",
       "      <td>1946.0</td>\n",
       "      <td>1</td>\n",
       "      <td>1</td>\n",
       "      <td>18.0</td>\n",
       "      <td>13537.0</td>\n",
       "      <td>2.0</td>\n",
       "      <td>NaN</td>\n",
       "      <td>0.8893</td>\n",
       "    </tr>\n",
       "    <tr>\n",
       "      <th>1</th>\n",
       "      <td>1972</td>\n",
       "      <td>38.0</td>\n",
       "      <td>1934.0</td>\n",
       "      <td>2</td>\n",
       "      <td>1</td>\n",
       "      <td>12.0</td>\n",
       "      <td>18951.0</td>\n",
       "      <td>1.0</td>\n",
       "      <td>NaN</td>\n",
       "      <td>0.4446</td>\n",
       "    </tr>\n",
       "    <tr>\n",
       "      <th>2</th>\n",
       "      <td>1972</td>\n",
       "      <td>57.0</td>\n",
       "      <td>1915.0</td>\n",
       "      <td>1</td>\n",
       "      <td>1</td>\n",
       "      <td>12.0</td>\n",
       "      <td>30458.0</td>\n",
       "      <td>1.0</td>\n",
       "      <td>NaN</td>\n",
       "      <td>1.3339</td>\n",
       "    </tr>\n",
       "    <tr>\n",
       "      <th>3</th>\n",
       "      <td>1972</td>\n",
       "      <td>61.0</td>\n",
       "      <td>1911.0</td>\n",
       "      <td>2</td>\n",
       "      <td>1</td>\n",
       "      <td>14.0</td>\n",
       "      <td>37226.0</td>\n",
       "      <td>1.0</td>\n",
       "      <td>NaN</td>\n",
       "      <td>0.8893</td>\n",
       "    </tr>\n",
       "    <tr>\n",
       "      <th>4</th>\n",
       "      <td>1972</td>\n",
       "      <td>59.0</td>\n",
       "      <td>1913.0</td>\n",
       "      <td>1</td>\n",
       "      <td>1</td>\n",
       "      <td>12.0</td>\n",
       "      <td>30458.0</td>\n",
       "      <td>2.0</td>\n",
       "      <td>NaN</td>\n",
       "      <td>0.8893</td>\n",
       "    </tr>\n",
       "  </tbody>\n",
       "</table>\n",
       "</div>"
      ],
      "text/plain": [
       "   year   age  cohort  sex  race  educ  realinc  gunlaw  grass  wtssall\n",
       "0  1972  26.0  1946.0    1     1  18.0  13537.0     2.0    NaN   0.8893\n",
       "1  1972  38.0  1934.0    2     1  12.0  18951.0     1.0    NaN   0.4446\n",
       "2  1972  57.0  1915.0    1     1  12.0  30458.0     1.0    NaN   1.3339\n",
       "3  1972  61.0  1911.0    2     1  14.0  37226.0     1.0    NaN   0.8893\n",
       "4  1972  59.0  1913.0    1     1  12.0  30458.0     2.0    NaN   0.8893"
      ]
     },
     "execution_count": 51,
     "metadata": {},
     "output_type": "execute_result"
    }
   ],
   "source": [
    "gss.head()"
   ]
  },
  {
   "cell_type": "code",
   "execution_count": 56,
   "id": "d8202ea4-e30e-470c-8f05-7e7488b78a8f",
   "metadata": {},
   "outputs": [],
   "source": [
    "educ = gss.educ"
   ]
  },
  {
   "cell_type": "code",
   "execution_count": 57,
   "id": "56dc2998-6e75-41ac-9439-462b13eeab55",
   "metadata": {},
   "outputs": [],
   "source": [
    "cdf_educ = Cdf.from_seq(educ)"
   ]
  },
  {
   "cell_type": "code",
   "execution_count": 58,
   "id": "61dcf839-a187-4b0f-899f-280ff54ff9ae",
   "metadata": {},
   "outputs": [
    {
     "name": "stdout",
     "output_type": "stream",
     "text": [
      "0.5322611710323575\n"
     ]
    }
   ],
   "source": [
    "print(cdf_educ(12))"
   ]
  },
  {
   "cell_type": "markdown",
   "id": "662c729a-8403-433d-aa37-1a3c5dbed7dd",
   "metadata": {},
   "source": [
    "<div class=\"alert alert-block alert-success\">\n",
    "<b>Outcome : </b> Approximately 53% of respondents have 12 years or fewer years of education\n",
    "</div>"
   ]
  },
  {
   "cell_type": "markdown",
   "id": "0d2c52cd-089f-4aaf-aa4d-f84ccd0f139b",
   "metadata": {},
   "source": [
    "<div class=\"alert alert-block alert-warning\">\n",
    "<b>2.7 Extract education levels\n",
    "    </b> \n",
    "\n",
    "</div>"
   ]
  },
  {
   "cell_type": "markdown",
   "id": "8c810c78-2ce9-44aa-99cf-0bbbbc6b043e",
   "metadata": {},
   "source": [
    "Let's create Boolean Series to identify respondents with different levels of education.\n",
    "\n",
    "In the U.S, 12 years of education usually means the respondent has completed high school (secondary education). A respondent with 14 years of education has probably completed an associate degree (two years of college); someone with 16 years has probably completed a bachelor's degree (four years of college)."
   ]
  },
  {
   "cell_type": "markdown",
   "id": "a40ae9ea-c9f3-48d5-88c7-6e639d47d479",
   "metadata": {},
   "source": [
    "- ##### <font color='navy'> Complete the line that identifies respondents with associate degrees, that is, people with 14 or more years of education but less than 16.\n",
    "</font>\n",
    "\n",
    "- ##### <font color='navy'> Complete the line that identifies respondents with 12 or fewer years of education.\n",
    "</font>\n",
    "\n",
    "- ##### <font color='navy'> Confirm that the mean of high is the fraction we computed in the previous exercise, about 53%.\n",
    "\n",
    "</font>\n",
    "\n",
    "\n"
   ]
  },
  {
   "cell_type": "code",
   "execution_count": 59,
   "id": "d7b1f66f-b91a-49b4-b09e-20e2a1d1786d",
   "metadata": {},
   "outputs": [
    {
     "name": "stdout",
     "output_type": "stream",
     "text": [
      "0.5308807991547402\n"
     ]
    }
   ],
   "source": [
    "# Select educ\n",
    "educ = gss['educ']\n",
    "\n",
    "# Bachelor's degree\n",
    "bach = (educ >= 16)\n",
    "\n",
    "# Associate degree\n",
    "assc = (educ >=14) & (educ <16)\n",
    "\n",
    "# High school (12 or fewer years of education)\n",
    "high = (educ <= 12)\n",
    "\n",
    "print(high.mean())"
   ]
  },
  {
   "cell_type": "markdown",
   "id": "f9059797-718e-4b05-9d2e-251ab69724d0",
   "metadata": {},
   "source": [
    "<div class=\"alert alert-block alert-warning\">\n",
    "<b>2.8 Plot income CDFs\n",
    "    </b> \n",
    "\n",
    "</div>"
   ]
  },
  {
   "cell_type": "markdown",
   "id": "6cd7ba0f-c7ff-496e-90de-19902585a8da",
   "metadata": {},
   "source": [
    "Let's now see what the distribution of income looks like for people with different education levels. You can do this by plotting the CDFs. \n",
    "\n",
    "Recall how Allen plotted the income CDFs of respondents interviewed before and after 1995:\n",
    "\n",
    "Cdf(income[pre95]).plot(label='Before 1995')\n",
    "\n",
    "Cdf(income[~pre95]).plot(label='After 1995')\n",
    "\n",
    "\n",
    "Boolean Series was defined in the previous exercise, to identify respondents with different education levels: high, assc, and bach."
   ]
  },
  {
   "cell_type": "markdown",
   "id": "47821b81-be9e-4459-8f5f-37672c5c2456",
   "metadata": {},
   "source": [
    "- ##### <font color='navy'> Fill in the missing lines of code to plot the CDFs.\n",
    "\n",
    "</font>\n",
    "\n"
   ]
  },
  {
   "cell_type": "code",
   "execution_count": 61,
   "id": "da5ef40e-159b-4599-bc4d-78eb94b7b10a",
   "metadata": {},
   "outputs": [
    {
     "data": {
      "image/png": "[encoded data removed]",
      "text/plain": [
       "<Figure size 1800x864 with 1 Axes>"
      ]
     },
     "metadata": {
      "needs_background": "light"
     },
     "output_type": "display_data"
    }
   ],
   "source": [
    "income = gss['realinc']\n",
    "\n",
    "# Plot the CDFs\n",
    "Cdf.from_seq(income[high]).plot(label='High school')\n",
    "Cdf.from_seq(income[assc]).plot(label='Associate')\n",
    "Cdf.from_seq(income[bach]).plot(label='Bachelor')\n",
    "\n",
    "# Label the axes\n",
    "plt.xlabel('Income (1986 USD)')\n",
    "plt.ylabel('CDF')\n",
    "\n",
    "plt.legend()\n",
    "plt.show()\n"
   ]
  },
  {
   "cell_type": "markdown",
   "id": "30f738be-8f25-49b5-a450-d13323dfbe20",
   "metadata": {},
   "source": [
    "<div class=\"alert alert-block alert-warning\">\n",
    "<b>2.9 Distribution of income\n",
    "</b> \n",
    "\n",
    "</div>"
   ]
  },
  {
   "cell_type": "markdown",
   "id": "a318f0f8-18b9-4f43-960a-317bf43bf992",
   "metadata": {},
   "source": [
    "In many datasets, the distribution of income is approximately lognormal, which means that the logarithms of the incomes fit a normal distribution. We'll see whether that's true for the GSS data. As a first step, you'll compute the mean and standard deviation of the log of incomes using NumPy's np.log10() function.\n",
    "\n",
    "Then, you'll use the computed mean and standard deviation to make a norm object using the scipy.stats.norm() function."
   ]
  },
  {
   "cell_type": "markdown",
   "id": "8f145d0e-dfda-4778-af1b-5d88c1d0fb21",
   "metadata": {},
   "source": [
    "- ##### <font color='navy'> Extract 'realinc' from gss and compute its logarithm using np.log10( )\n",
    "\n",
    "\n",
    "</font>\n",
    "\n"
   ]
  },
  {
   "cell_type": "code",
   "execution_count": 62,
   "id": "8a795d3b-bfa3-4977-91f5-505c8b676425",
   "metadata": {},
   "outputs": [],
   "source": [
    "# Extract realinc and compute its log\n",
    "income = gss['realinc']\n",
    "log_income = np.log10(income)"
   ]
  },
  {
   "cell_type": "markdown",
   "id": "259cc7e8-83ef-429b-a112-ab8197e6fca3",
   "metadata": {},
   "source": [
    "- ##### <font color='navy'> Compute the mean and standard deviation of the result.\n",
    "\n",
    "\n",
    "\n",
    "</font>\n",
    "\n"
   ]
  },
  {
   "cell_type": "code",
   "execution_count": 64,
   "id": "89b393e5-1e7d-43a0-8d71-36ad89484b6c",
   "metadata": {},
   "outputs": [
    {
     "name": "stdout",
     "output_type": "stream",
     "text": [
      "4.371148677933652 0.4290043733010077\n"
     ]
    }
   ],
   "source": [
    "# Compute mean and standard deviation\n",
    "\n",
    "mean = np.mean(log_income)\n",
    "std = np.std(log_income)\n",
    "print(mean, std)"
   ]
  },
  {
   "cell_type": "markdown",
   "id": "6319087b-fb99-4ca9-a8eb-054d699614f8",
   "metadata": {},
   "source": [
    "- ##### <font color='navy'> Make a norm object by passing the computed mean and standard deviation to norm().\n",
    "\n",
    "\n",
    "\n",
    "\n",
    "</font>\n",
    "\n"
   ]
  },
  {
   "cell_type": "code",
   "execution_count": 77,
   "id": "08298a9d-ef3c-4a49-a19c-88fc98419cfb",
   "metadata": {},
   "outputs": [],
   "source": [
    "# Make a norm object\n",
    "from scipy.stats import norm\n",
    "\n",
    "dist = norm(mean, std)"
   ]
  },
  {
   "cell_type": "markdown",
   "id": "1482ee2a-9adc-4867-9c02-df5a72a20696",
   "metadata": {},
   "source": [
    "<div class=\"alert alert-block alert-warning\">\n",
    "<b>2.10 Comparing CDFs\n",
    "\n",
    "</b> \n",
    "\n",
    "</div>"
   ]
  },
  {
   "cell_type": "markdown",
   "id": "f2c9f4be-2b03-4a03-abfd-54be8e36aefc",
   "metadata": {},
   "source": [
    "To see whether the distribution of income is well modeled by a lognormal distribution, we'll compare the CDF of the logarithm of the data to a normal distribution with the same mean and standard deviation. The variables from the previous exercise are available to use.\n",
    "\n",
    "dist is a scipy.stats.norm object with the same mean and standard deviation as the data. It provides .cdf(), which evaluates the normal cumulative distribution function.\n",
    "\n",
    "Be careful with capitalization: Cdf(), with an uppercase C, creates Cdf objects. dist.cdf(), with a lowercase c, evaluates the normal cumulative distribution function.\n",
    "\n"
   ]
  },
  {
   "cell_type": "markdown",
   "id": "33d15fed-37b8-4ca9-b05b-b09d5b0d7da7",
   "metadata": {},
   "source": [
    "- ##### <font color='navy'> Evaluate the normal cumulative distribution function using dist.cdf.\n",
    "</font>\n",
    "\n",
    "- ##### <font color='navy'> Use the Cdf() function to compute the CDF of log_income.\n",
    "</font>\n",
    "\n",
    "- ##### <font color='navy'> Plot the result.\n",
    "</font>\n",
    "\n",
    "\n"
   ]
  },
  {
   "cell_type": "code",
   "execution_count": 88,
   "id": "4cf76f06-c2e2-4a6c-93c5-529031763c19",
   "metadata": {},
   "outputs": [
    {
     "data": {
      "image/png": "[encoded data removed]",
      "text/plain": [
       "<Figure size 1800x864 with 1 Axes>"
      ]
     },
     "metadata": {
      "needs_background": "light"
     },
     "output_type": "display_data"
    }
   ],
   "source": [
    "# Evaluate the model CDF\n",
    "xs = np.linspace(2, 5.5)\n",
    "ys = dist.cdf(xs)\n",
    "\n",
    "# Plot the model CDF\n",
    "plt.clf()\n",
    "plt.plot(xs, ys, color='gray')\n",
    "\n",
    "# Create and plot the Cdf of log_income\n",
    "Cdf.from_seq(log_income).plot()\n",
    "    \n",
    "# Label the axes\n",
    "plt.xlabel('log10 of realinc')\n",
    "plt.ylabel('CDF')\n",
    "plt.show()"
   ]
  },
  {
   "cell_type": "markdown",
   "id": "9a2d540e-1559-4a48-98cd-562efdfb44ba",
   "metadata": {},
   "source": [
    "<div class=\"alert alert-block alert-warning\">\n",
    "<b>2.11 Comparing PDFs\n",
    "\n",
    "</b> \n",
    "\n",
    "</div>"
   ]
  },
  {
   "cell_type": "markdown",
   "id": "53aaca21-ec1e-426a-96e1-3b354ffea524",
   "metadata": {},
   "source": [
    "In the previous exercise, we used CDFs to see if the distribution of income is lognormal. We can make the same comparison using a PDF and KDE. That's what you'll do in this exercise!\n",
    "\n",
    "As before, the norm object dist is available in your workspace:\n",
    "\n",
    "Just as all norm objects have a .cdf() method, they also have a .pdf() method.\n",
    "\n",
    "To create a KDE plot, you can use Seaborn's kdeplot() function. "
   ]
  },
  {
   "cell_type": "markdown",
   "id": "96dd5e76-6c59-4c66-95f0-5f02df0e42fb",
   "metadata": {},
   "source": [
    "- ##### <font color='navy'> Evaluate the normal PDF using dist, which is a norm object with the same mean and standard deviation as the data.\n",
    "\n",
    "</font>\n",
    "\n",
    "- ##### <font color='navy'>Make a KDE plot of the logarithms of the incomes, using log_income, which is a Series object.\n"
   ]
  },
  {
   "cell_type": "code",
   "execution_count": 89,
   "id": "0a7da769-f620-46c3-bd48-baf326218996",
   "metadata": {},
   "outputs": [
    {
     "data": {
      "image/png": "[encoded data removed]",
      "text/plain": [
       "<Figure size 1800x864 with 1 Axes>"
      ]
     },
     "metadata": {
      "needs_background": "light"
     },
     "output_type": "display_data"
    }
   ],
   "source": [
    "# Evaluate the normal PDF\n",
    "xs = np.linspace(2, 5.5)\n",
    "ys = dist.pdf(xs)\n",
    "\n",
    "\n",
    "# Plot the model PDF\n",
    "plt.clf()\n",
    "plt.plot(xs, ys, color='gray')\n",
    "\n",
    "# Plot the data KDE\n",
    "sns.kdeplot(log_income)\n",
    "\n",
    "\n",
    "# Label the axes\n",
    "plt.xlabel('log10 of realinc')\n",
    "plt.ylabel('PDF')\n",
    "plt.show()\n"
   ]
  },
  {
   "cell_type": "code",
   "execution_count": null,
   "id": "b35826b3-c35f-43fc-8b74-1ab3db844917",
   "metadata": {},
   "outputs": [],
   "source": []
  },
  {
   "cell_type": "markdown",
   "id": "f57f9fbc-f84a-4a9e-a69f-5ad4401a8746",
   "metadata": {},
   "source": [
    "<a id=\"section_ID_3\"></a>\n",
    "\n",
    "## 3. Relationships"
   ]
  },
  {
   "cell_type": "markdown",
   "id": "85d9e09a-9b6c-4a45-837f-bd0d77025ff7",
   "metadata": {},
   "source": [
    "<div class=\"alert alert-block alert-warning\">\n",
    "<b>3.1 PMF of age\n",
    "\n",
    "</b> \n",
    "\n",
    "</div>"
   ]
  },
  {
   "cell_type": "markdown",
   "id": "9ee9e408-f12e-4078-b6a8-a42614314b3b",
   "metadata": {},
   "source": [
    "Do people tend to gain weight as they get older? We can answer this question by visualizing the relationship between weight and age. But before we make a scatter plot, it is a good idea to visualize distributions one variable at a time. Here, you'll visualize age using a bar chart first. Recall that all PMF objects have a .bar() method to make a bar chart.\n",
    "\n",
    "The BRFSS dataset includes a variable, 'AGE' (note the capitalization!), which represents each respondent's age. To protect respondents' privacy, ages are rounded off into 5-year bins. 'AGE' contains the midpoint of the bins."
   ]
  },
  {
   "cell_type": "markdown",
   "id": "e9fa1dd1-f722-4ead-8b28-760b4c94d2c2",
   "metadata": {},
   "source": [
    "- ##### <font color='navy'> Extract the variable 'AGE' from the DataFrame brfss and assign it to age.\n",
    "\n",
    "</font>\n",
    "\n",
    "- ##### <font color='navy'> Get the PMF of age and plot it as a bar chart.\n",
    "\n",
    "</font>\n",
    "\n"
   ]
  },
  {
   "cell_type": "code",
   "execution_count": 96,
   "id": "875b84d8-a420-42f7-ad64-5dc32ead4e52",
   "metadata": {},
   "outputs": [],
   "source": [
    "brfss = pd.read_hdf(\"brfss.hdf5\")"
   ]
  },
  {
   "cell_type": "code",
   "execution_count": 97,
   "id": "62cd3949-960e-4c41-81fc-974701f9508b",
   "metadata": {},
   "outputs": [
    {
     "data": {
      "text/html": [
       "<div>\n",
       "<style scoped>\n",
       "    .dataframe tbody tr th:only-of-type {\n",
       "        vertical-align: middle;\n",
       "    }\n",
       "\n",
       "    .dataframe tbody tr th {\n",
       "        vertical-align: top;\n",
       "    }\n",
       "\n",
       "    .dataframe thead th {\n",
       "        text-align: right;\n",
       "    }\n",
       "</style>\n",
       "<table border=\"1\" class=\"dataframe\">\n",
       "  <thead>\n",
       "    <tr style=\"text-align: right;\">\n",
       "      <th></th>\n",
       "      <th>SEX</th>\n",
       "      <th>HTM4</th>\n",
       "      <th>WTKG3</th>\n",
       "      <th>INCOME2</th>\n",
       "      <th>_LLCPWT</th>\n",
       "      <th>_AGEG5YR</th>\n",
       "      <th>_VEGESU1</th>\n",
       "      <th>_HTMG10</th>\n",
       "      <th>AGE</th>\n",
       "    </tr>\n",
       "  </thead>\n",
       "  <tbody>\n",
       "    <tr>\n",
       "      <th>96230</th>\n",
       "      <td>2.0</td>\n",
       "      <td>160.0</td>\n",
       "      <td>60.33</td>\n",
       "      <td>8.0</td>\n",
       "      <td>1398.525290</td>\n",
       "      <td>6.0</td>\n",
       "      <td>2.14</td>\n",
       "      <td>150.0</td>\n",
       "      <td>47.0</td>\n",
       "    </tr>\n",
       "    <tr>\n",
       "      <th>244920</th>\n",
       "      <td>2.0</td>\n",
       "      <td>163.0</td>\n",
       "      <td>58.97</td>\n",
       "      <td>5.0</td>\n",
       "      <td>84.057503</td>\n",
       "      <td>13.0</td>\n",
       "      <td>3.14</td>\n",
       "      <td>160.0</td>\n",
       "      <td>89.5</td>\n",
       "    </tr>\n",
       "    <tr>\n",
       "      <th>57312</th>\n",
       "      <td>2.0</td>\n",
       "      <td>163.0</td>\n",
       "      <td>72.57</td>\n",
       "      <td>8.0</td>\n",
       "      <td>390.248599</td>\n",
       "      <td>5.0</td>\n",
       "      <td>2.64</td>\n",
       "      <td>160.0</td>\n",
       "      <td>42.0</td>\n",
       "    </tr>\n",
       "    <tr>\n",
       "      <th>32573</th>\n",
       "      <td>2.0</td>\n",
       "      <td>165.0</td>\n",
       "      <td>74.84</td>\n",
       "      <td>1.0</td>\n",
       "      <td>11566.705300</td>\n",
       "      <td>3.0</td>\n",
       "      <td>1.46</td>\n",
       "      <td>160.0</td>\n",
       "      <td>32.0</td>\n",
       "    </tr>\n",
       "    <tr>\n",
       "      <th>355929</th>\n",
       "      <td>2.0</td>\n",
       "      <td>170.0</td>\n",
       "      <td>108.86</td>\n",
       "      <td>3.0</td>\n",
       "      <td>844.485450</td>\n",
       "      <td>3.0</td>\n",
       "      <td>1.81</td>\n",
       "      <td>160.0</td>\n",
       "      <td>32.0</td>\n",
       "    </tr>\n",
       "  </tbody>\n",
       "</table>\n",
       "</div>"
      ],
      "text/plain": [
       "        SEX   HTM4   WTKG3  INCOME2       _LLCPWT  _AGEG5YR  _VEGESU1  \\\n",
       "96230   2.0  160.0   60.33      8.0   1398.525290       6.0      2.14   \n",
       "244920  2.0  163.0   58.97      5.0     84.057503      13.0      3.14   \n",
       "57312   2.0  163.0   72.57      8.0    390.248599       5.0      2.64   \n",
       "32573   2.0  165.0   74.84      1.0  11566.705300       3.0      1.46   \n",
       "355929  2.0  170.0  108.86      3.0    844.485450       3.0      1.81   \n",
       "\n",
       "        _HTMG10   AGE  \n",
       "96230     150.0  47.0  \n",
       "244920    160.0  89.5  \n",
       "57312     160.0  42.0  \n",
       "32573     160.0  32.0  \n",
       "355929    160.0  32.0  "
      ]
     },
     "execution_count": 97,
     "metadata": {},
     "output_type": "execute_result"
    }
   ],
   "source": [
    "brfss.head()"
   ]
  },
  {
   "cell_type": "code",
   "execution_count": 99,
   "id": "1ac1a531-b8d3-4966-af0c-e935e80c14c6",
   "metadata": {},
   "outputs": [
    {
     "data": {
      "image/png": "[encoded data removed]",
      "text/plain": [
       "<Figure size 1800x864 with 1 Axes>"
      ]
     },
     "metadata": {
      "needs_background": "light"
     },
     "output_type": "display_data"
    }
   ],
   "source": [
    "# Extract age\n",
    "age = brfss.AGE\n",
    "\n",
    "# Plot the PMF\n",
    "pmf_age = Pmf.from_seq(age)\n",
    "pmf_age.bar()\n",
    "\n",
    "# Label the axes\n",
    "plt.xlabel('Age in years')\n",
    "plt.ylabel('PMF')\n",
    "plt.show()"
   ]
  },
  {
   "cell_type": "markdown",
   "id": "2372e191-80e0-44b6-857d-f9cd8d64f6f6",
   "metadata": {},
   "source": [
    "<div class=\"alert alert-block alert-warning\">\n",
    "<b>3.2 Scatter plot\n",
    "\n",
    "</b> \n",
    "\n",
    "</div>"
   ]
  },
  {
   "cell_type": "markdown",
   "id": "5ef9bbf5-84ec-4fa1-9e1f-790bc62f2d8b",
   "metadata": {},
   "source": [
    "Now let's make a scatterplot of weight versus age. To make the code run faster, I've selected only the first 1000 rows from the brfss DataFrame.\n",
    "\n",
    "Extract weight and age. \n",
    "\n",
    "Your job is to use plt.plot() to make a scatter plot."
   ]
  },
  {
   "cell_type": "markdown",
   "id": "acdadd99-5ae8-48b0-841e-907e7dc6c344",
   "metadata": {},
   "source": [
    "- ##### <font color='navy'> Make a scatter plot of weight and age with format string 'o' and alpha=0.1.\n",
    "\n",
    "</font>\n",
    "\n"
   ]
  },
  {
   "cell_type": "code",
   "execution_count": 100,
   "id": "af5a4576-d650-44ed-b4d6-a7cff9d5d474",
   "metadata": {},
   "outputs": [
    {
     "data": {
      "image/png": "[encoded data removed]",
      "text/plain": [
       "<Figure size 1800x864 with 1 Axes>"
      ]
     },
     "metadata": {
      "needs_background": "light"
     },
     "output_type": "display_data"
    }
   ],
   "source": [
    "# Select the first 1000 respondents\n",
    "brfss = brfss[:1000]\n",
    "\n",
    "# Extract age and weight\n",
    "age = brfss['AGE']\n",
    "weight = brfss['WTKG3']\n",
    "\n",
    "# Make a scatter plot\n",
    "plt.plot(age, weight, 'o', alpha=0.1)\n",
    "\n",
    "\n",
    "plt.xlabel('Age in years')\n",
    "plt.ylabel('Weight in kg')\n",
    "\n",
    "plt.show()"
   ]
  },
  {
   "cell_type": "markdown",
   "id": "c76ab73e-a750-465d-b9ff-a57b4858afe2",
   "metadata": {},
   "source": [
    "<div class=\"alert alert-block alert-warning\">\n",
    "<b>3.3 Jittering\n",
    "\n",
    "</b> \n",
    "\n",
    "</div>"
   ]
  },
  {
   "cell_type": "markdown",
   "id": "418e6bee-738a-4fdc-b814-ea3561703810",
   "metadata": {},
   "source": [
    "In the previous exercise, the ages fall in columns because they've been rounded into 5-year bins. If we jitter them, the scatter plot will show the relationship more clearly. Recall how Allen jittered height and weight in the video:\n",
    "\n",
    "height_jitter = height + np.random.normal(0, 2, size=len(brfss))\n",
    "\n",
    "weight_jitter = weight + np.random.normal(0, 2, size=len(brfss))"
   ]
  },
  {
   "cell_type": "markdown",
   "id": "3123eeb5-71c9-4297-8508-b5f2709e9b3c",
   "metadata": {},
   "source": [
    "- ##### <font color='navy'> Add random noise to age with mean 0 and standard deviation 2.5.\n",
    "\n",
    "</font>\n",
    "\n"
   ]
  },
  {
   "cell_type": "code",
   "execution_count": 101,
   "id": "9f363b12-e11c-4555-a3ea-9b9063da76f0",
   "metadata": {},
   "outputs": [],
   "source": [
    "# Select the first 1000 respondents\n",
    "\n",
    "brfss = brfss[:1000]\n",
    "\n",
    "\n",
    "# Add jittering to age\n",
    "\n",
    "age = brfss['AGE'] + np.random.normal(0, 2.5,size=len(brfss))\n"
   ]
  },
  {
   "cell_type": "markdown",
   "id": "8d047c34-c79f-402a-b7e5-d6967db87390",
   "metadata": {},
   "source": [
    "- ##### <font color='navy'> Make a scatter plot between weight and age with marker size 5 and alpha=0.2. Be sure to also specify 'o'.\n",
    "\n",
    "</font>\n",
    "\n"
   ]
  },
  {
   "cell_type": "code",
   "execution_count": 102,
   "id": "c1908f22-31ff-44ea-8df4-64dc212c3c9d",
   "metadata": {},
   "outputs": [
    {
     "data": {
      "image/png": "[encoded data removed]",
      "text/plain": [
       "<Figure size 1800x864 with 1 Axes>"
      ]
     },
     "metadata": {
      "needs_background": "light"
     },
     "output_type": "display_data"
    }
   ],
   "source": [
    "# Extract weight\n",
    "weight = brfss['WTKG3']\n",
    "\n",
    "# Make a scatter plot\n",
    "plt.plot(age, weight, 'o',markersize=5, alpha=0.2 )\n",
    "\n",
    "plt.xlabel('Age in years')\n",
    "plt.ylabel('Weight in kg')\n",
    "plt.show()"
   ]
  },
  {
   "cell_type": "markdown",
   "id": "2a1be534-e99f-406b-b79b-3d546f257f97",
   "metadata": {},
   "source": [
    "<div class=\"alert alert-block alert-warning\">\n",
    "<b>3.4 Height and Weight\n",
    "\n",
    "</b> \n",
    "\n",
    "</div>"
   ]
  },
  {
   "cell_type": "markdown",
   "id": "4e98cd40-d569-4b7e-bb7f-3b73ac05b329",
   "metadata": {},
   "source": [
    "Previously we looked at a scatter plot of height and weight, and saw that taller people tend to be heavier. Now let's take a closer look using a box plot. The brfss DataFrame contains a variable '_HTMG10' that represents height in centimeters, binned into 10 cm groups.\n",
    "\n",
    "Recall how Allen created the box plot of 'AGE' and 'WTKG3' in the video, with the y-axis on a logarithmic scale:\n",
    "\n",
    "sns.boxplot(x='AGE', y='WTKG3', data=data, whis=10)\n",
    "\n",
    "plt.yscale('log')"
   ]
  },
  {
   "cell_type": "markdown",
   "id": "af07c32a-84e5-41a8-8747-031c75a6a4a8",
   "metadata": {},
   "source": [
    "- ##### <font color='navy'> Fill in the parameters of .boxplot() to plot the distribution of weight ('WTKG3') in each height ('_HTMG10') group. Specify whis=10, just as was done in the video.\n",
    "\n",
    "</font>\n",
    "\n",
    "\n",
    "- ##### <font color='navy'> Add a line to plot the y-axis on a logarithmic scale.\n",
    "\n",
    "</font>\n",
    "\n"
   ]
  },
  {
   "cell_type": "code",
   "execution_count": 105,
   "id": "fb430c12-cd54-4789-b9ef-c4d60581b887",
   "metadata": {},
   "outputs": [
    {
     "data": {
      "image/png": "[encoded data removed]",
      "text/plain": [
       "<Figure size 1800x864 with 1 Axes>"
      ]
     },
     "metadata": {
      "needs_background": "light"
     },
     "output_type": "display_data"
    }
   ],
   "source": [
    "# Drop rows with missing data\n",
    "data = brfss.dropna(subset=['_HTMG10', 'WTKG3'])\n",
    "\n",
    "# Make a box plot\n",
    "sns.boxplot(x='_HTMG10', y='WTKG3', data=data, whis=10)\n",
    "\n",
    "# Plot the y-axis on a log scale\n",
    "plt.yscale('log')\n",
    "\n",
    "# Remove unneeded lines and label axes\n",
    "sns.despine(left=True, bottom=True)\n",
    "plt.xlabel('Height in cm')\n",
    "plt.ylabel('Weight in kg')\n",
    "plt.show()\n",
    "\n"
   ]
  },
  {
   "cell_type": "markdown",
   "id": "2f2b3ce6-31c8-4cd7-9a6e-ebc8bce2d8ec",
   "metadata": {},
   "source": [
    "<div class=\"alert alert-block alert-warning\">\n",
    "<b>3.5 Distribution of income\n",
    "\n",
    "\n",
    "</b> \n",
    "\n",
    "</div>"
   ]
  },
  {
   "cell_type": "markdown",
   "id": "04874ac9-0de0-42e3-901d-54e19e7f9ea4",
   "metadata": {},
   "source": [
    "In the next two exercises we'll look at relationships between income and other variables. In the BRFSS, income is represented as a categorical variable; that is, respondents are assigned to one of 8 income categories. The variable name is 'INCOME2'. Before we connect income with anything else, let's look at the distribution by computing the PMF. Recall that all Pmf objects have a .bar() method.\n",
    "\n"
   ]
  },
  {
   "cell_type": "markdown",
   "id": "0438074d-3f75-4b09-b92e-ca0953894df7",
   "metadata": {},
   "source": [
    "- ##### <font color='navy'> Extract 'INCOME2' from the brfss DataFrame and assign it to income.\n",
    "\n",
    "</font>\n",
    "\n",
    "\n",
    "- ##### <font color='navy'> Plot the PMF of income as a bar chart.\n",
    "\n",
    "\n",
    "\n",
    "</font>\n",
    "\n"
   ]
  },
  {
   "cell_type": "code",
   "execution_count": 107,
   "id": "fc896ca2-a4dc-48dc-a73e-cf538c715b50",
   "metadata": {},
   "outputs": [
    {
     "data": {
      "text/plain": [
       "Index(['SEX', 'HTM4', 'WTKG3', 'INCOME2', '_LLCPWT', '_AGEG5YR', '_VEGESU1',\n",
       "       '_HTMG10', 'AGE'],\n",
       "      dtype='object')"
      ]
     },
     "execution_count": 107,
     "metadata": {},
     "output_type": "execute_result"
    }
   ],
   "source": [
    "brfss.columns"
   ]
  },
  {
   "cell_type": "code",
   "execution_count": 109,
   "id": "a9419337-f1b1-40f6-885f-a536dde2c86e",
   "metadata": {},
   "outputs": [
    {
     "data": {
      "image/png": "[encoded data removed]",
      "text/plain": [
       "<Figure size 1800x864 with 1 Axes>"
      ]
     },
     "metadata": {
      "needs_background": "light"
     },
     "output_type": "display_data"
    }
   ],
   "source": [
    "# Extract income\n",
    "income = brfss.INCOME2\n",
    "\n",
    "# Plot the PMF\n",
    "income_pmf = Pmf.from_seq(income)\n",
    "income_pmf.bar()\n",
    "\n",
    "# Label the axes\n",
    "plt.xlabel('Income level')\n",
    "plt.ylabel('PMF')\n",
    "plt.show()"
   ]
  },
  {
   "cell_type": "markdown",
   "id": "93ee78e4-8898-4029-b74d-a143b6d5280e",
   "metadata": {},
   "source": [
    "<div class=\"alert alert-block alert-warning\">\n",
    "<b>3.6 Income and height\n",
    "\n",
    "\n",
    "</b> \n",
    "\n",
    "</div>"
   ]
  },
  {
   "cell_type": "markdown",
   "id": "6a7ad468-6956-4e02-a394-50dbef8398d6",
   "metadata": {},
   "source": [
    "- ##### <font color='navy'> Create a violin plot to plot the distribution of height ('HTM4') in each income ('INCOME2') group. Specify inner=None to simplify the plot.\n",
    "\n",
    "</font>\n",
    "\n"
   ]
  },
  {
   "cell_type": "code",
   "execution_count": 110,
   "id": "15adbdbd-5bd9-4e94-864d-211a704ab15b",
   "metadata": {},
   "outputs": [
    {
     "data": {
      "image/png": "[encoded data removed]",
      "text/plain": [
       "<Figure size 1800x864 with 1 Axes>"
      ]
     },
     "metadata": {
      "needs_background": "light"
     },
     "output_type": "display_data"
    }
   ],
   "source": [
    "# Drop rows with missing data\n",
    "data = brfss.dropna(subset=['INCOME2', 'HTM4'])\n",
    "\n",
    "# Make a violin plot\n",
    "sns.violinplot(x='INCOME2', y='HTM4', data=data, inner=None)\n",
    "\n",
    "# Remove unneeded lines and label axes\n",
    "sns.despine(left=True, bottom=True)\n",
    "plt.xlabel('Income level')\n",
    "plt.ylabel('Height in cm')\n",
    "plt.show()\n"
   ]
  },
  {
   "cell_type": "markdown",
   "id": "8293b4ba-c1c3-47b8-875c-fa11af77dfd1",
   "metadata": {},
   "source": [
    "<div class=\"alert alert-block alert-warning\">\n",
    "<b>3.7 Computing corelations\n",
    "\n",
    "\n",
    "</b> \n",
    "\n",
    "</div>"
   ]
  },
  {
   "cell_type": "markdown",
   "id": "3e13968d-ff23-4367-a3d1-aef09cdb706b",
   "metadata": {},
   "source": [
    "The purpose of the BRFSS is to explore health risk factors, so it includes questions about diet. The variable '_VEGESU1' represents the number of servings of vegetables respondents reported eating per day.\n",
    "\n",
    "Let's see how this variable relates to age and income."
   ]
  },
  {
   "cell_type": "markdown",
   "id": "dc82c671-089e-49c8-a435-64d0981302c4",
   "metadata": {},
   "source": [
    "- ##### <font color='navy'> From the brfss DataFrame, select the columns 'AGE', 'INCOME2', and '_VEGESU1'.\n",
    "\n",
    "</font>\n",
    "\n",
    "- ##### <font color='navy'> Compute the correlation matrix for these variables.\n",
    "\n",
    "</font>\n",
    "\n",
    "\n",
    "\n"
   ]
  },
  {
   "cell_type": "code",
   "execution_count": 111,
   "id": "de459cf1-47f6-4c15-891c-84a0e847304f",
   "metadata": {},
   "outputs": [
    {
     "name": "stdout",
     "output_type": "stream",
     "text": [
      "               AGE   INCOME2  _VEGESU1\n",
      "AGE       1.000000 -0.014141 -0.021548\n",
      "INCOME2  -0.014141  1.000000  0.115264\n",
      "_VEGESU1 -0.021548  0.115264  1.000000\n"
     ]
    }
   ],
   "source": [
    "# Select columns\n",
    "columns = ['AGE', 'INCOME2', '_VEGESU1' ]\n",
    "subset = brfss[columns]\n",
    "\n",
    "# Compute the correlation matrix\n",
    "print(subset.corr())"
   ]
  },
  {
   "cell_type": "code",
   "execution_count": null,
   "id": "4c8f3a3b-5b8c-400d-b2c8-5c648ae77c7c",
   "metadata": {},
   "outputs": [],
   "source": []
  },
  {
   "cell_type": "markdown",
   "id": "f5ec1ca9-79ec-45d1-a74d-5effc0eac1ff",
   "metadata": {},
   "source": [
    "<div class=\"alert alert-block alert-warning\">\n",
    "<b>3.8 Interpreting correlations\n",
    "\n",
    "\n",
    "\n",
    "</b> \n",
    "\n",
    "</div>"
   ]
  },
  {
   "cell_type": "markdown",
   "id": "1311d00b-5198-45e6-a23e-35363e234791",
   "metadata": {},
   "source": [
    "In the previous exercise, the correlation between income and vegetable consumption is about 0.12. The correlation between age and vegetable consumption is about -0.01.\n",
    "\n",
    "Which of the following are correct interpretations of these results ?"
   ]
  },
  {
   "cell_type": "markdown",
   "id": "c062ba1b-7e48-4a60-8c26-0c5306f350b1",
   "metadata": {},
   "source": [
    "- ##### <font color='navy'> A: People with higher incomes eat more vegetables.\n",
    "\n",
    "</font>\n",
    "\n",
    "- ##### <font color='navy'> B: The relationship between income and vegetable consumption is linear.\n",
    "\n",
    "\n",
    "</font>\n",
    "\n",
    "\n",
    "- ##### <font color='navy'> C: Older people eat more vegetables.\n",
    "\n",
    "\n",
    "\n",
    "</font>\n",
    "\n",
    "\n",
    "- ##### <font color='navy'> D: There could be a strong nonlinear relationship between age and vegetable consumption.\n",
    "\n",
    "\n",
    "\n",
    "</font>\n",
    "\n",
    "\n",
    "\n"
   ]
  },
  {
   "cell_type": "markdown",
   "id": "cae5701d-1654-4a1e-9b25-96ade85e6761",
   "metadata": {},
   "source": [
    "<div class=\"alert alert-block alert-success\">\n",
    "<b>Ans: </b> A and D\n",
    "</div>"
   ]
  },
  {
   "cell_type": "markdown",
   "id": "21cbecf7-7ba7-4de8-9714-8c32bcf61e32",
   "metadata": {},
   "source": [
    "<div class=\"alert alert-block alert-warning\">\n",
    "<b>3.9 Income and vegetables\n",
    "\n",
    "\n",
    "\n",
    "\n",
    "</b> \n",
    "\n",
    "</div>"
   ]
  },
  {
   "cell_type": "markdown",
   "id": "7b843d7a-391f-4436-b7c0-430f2bd59be5",
   "metadata": {},
   "source": [
    "As we saw in a previous exercise, the variable '_VEGESU1' represents the number of vegetable servings respondents reported eating per day.\n",
    "\n",
    "Let's estimate the slope of the relationship between vegetable consumption and income."
   ]
  },
  {
   "cell_type": "markdown",
   "id": "1b454e67-0b5b-48fe-8bc5-bf20a23bbefa",
   "metadata": {},
   "source": [
    "- ##### <font color='navy'> Extract the columns 'INCOME2' and '_VEGESU1' from subset into xs and ys respectively.\n",
    "\n",
    "</font>\n",
    "\n",
    "- ##### <font color='navy'> Extract the columns 'INCOME2' and '_VEGESU1' from subset into xs and ys respectively.\n",
    "\n",
    "\n",
    "</font>\n",
    "\n"
   ]
  },
  {
   "cell_type": "code",
   "execution_count": 112,
   "id": "6cd5c20e-2d10-4610-803a-f0a5cbb42d3b",
   "metadata": {},
   "outputs": [
    {
     "name": "stdout",
     "output_type": "stream",
     "text": [
      "LinregressResult(slope=0.07000027412424817, intercept=1.5413758521321232, rvalue=0.11526352353306703, pvalue=0.0015115444024927935, stderr=0.021983967667553426, intercept_stderr=0.1391883671176333)\n"
     ]
    }
   ],
   "source": [
    "from scipy.stats import linregress\n",
    "\n",
    "# Extract the variables\n",
    "subset = brfss.dropna(subset=['INCOME2', '_VEGESU1'])\n",
    "xs = subset['INCOME2']\n",
    "ys = subset['_VEGESU1']\n",
    "\n",
    "# Compute the linear regression\n",
    "res = linregress(xs, ys)\n",
    "print(res)"
   ]
  },
  {
   "cell_type": "markdown",
   "id": "b87d2edd-75d3-496c-80d3-393d6bfbeb85",
   "metadata": {},
   "source": [
    "<div class=\"alert alert-block alert-warning\">\n",
    "<b>3.10 Fit a line\n",
    "\n",
    "\n",
    "\n",
    "\n",
    "</b> \n",
    "\n",
    "</div>"
   ]
  },
  {
   "cell_type": "markdown",
   "id": "508cddd6-ae91-4778-939b-875303d4c974",
   "metadata": {},
   "source": [
    "Continuing from the previous exercise:\n",
    "\n",
    "- Assume that xs and ys contain income codes and daily vegetable consumption, respectively, and\n",
    "\n",
    "- res contains the results of a simple linear regression of ys onto xs.\n",
    "\n",
    "Now, you're going to compute the line of best fit. NumPy has been imported for you as np."
   ]
  },
  {
   "cell_type": "markdown",
   "id": "a601e94e-47c1-45bc-8be5-3a7adbd87138",
   "metadata": {},
   "source": [
    "- ##### <font color='navy'> Set fx to the minimum and maximum of xs, stored in a NumPy array.\n",
    "\n",
    "- ##### <font color='navy'> Set fy to the points on the fitted line that correspond to the fx.\n",
    "\n",
    "\n",
    "</font>\n",
    "\n"
   ]
  },
  {
   "cell_type": "code",
   "execution_count": 119,
   "id": "f09db002-230a-4258-9331-dbe369c5c81e",
   "metadata": {},
   "outputs": [
    {
     "data": {
      "image/png": "[encoded data removed]",
      "text/plain": [
       "<Figure size 1800x864 with 1 Axes>"
      ]
     },
     "metadata": {
      "needs_background": "light"
     },
     "output_type": "display_data"
    }
   ],
   "source": [
    "# Plot the scatter plot\n",
    "plt.clf()\n",
    "\n",
    "# If you dont want the jitter but it looks like columns\n",
    "#plt.plot(xs, ys, 'o', alpha=0.2)\n",
    "\n",
    "x_jitter = xs + np.random.normal(0, 0.15, len(xs))\n",
    "plt.plot(x_jitter, ys, 'o', alpha=0.2)\n",
    "\n",
    "\n",
    "# Plot the line of best fit\n",
    "fx = np.array([xs.min(), xs.max()])\n",
    "fy = res.intercept + res.slope * fx\n",
    "plt.plot(fx, fy, '-', alpha=0.7)\n",
    "\n",
    "plt.xlabel('Income code')\n",
    "plt.ylabel('Vegetable servings per day')\n",
    "plt.ylim([0, 6])\n",
    "plt.show()"
   ]
  },
  {
   "cell_type": "markdown",
   "id": "0697554c-ceef-4f51-8ca6-64599fc7a618",
   "metadata": {},
   "source": [
    "<a id=\"section_ID_4\"></a>\n",
    "\n",
    "## 4. Multivariate Thinking"
   ]
  },
  {
   "cell_type": "markdown",
   "id": "ddcfbfc2-ab8e-4830-a968-e556777d969a",
   "metadata": {},
   "source": [
    "<div class=\"alert alert-block alert-warning\">\n",
    "<b>4.1 Using StatsModels\n",
    "\n",
    "\n",
    "\n",
    "\n",
    "\n",
    "</b> \n",
    "\n",
    "</div>"
   ]
  },
  {
   "cell_type": "markdown",
   "id": "a6a34ea4-395b-43f0-bf3d-e64ba2ab678c",
   "metadata": {},
   "source": [
    "Let's run the same regression using SciPy and StatsModels, and confirm we get the same results.\n",
    "\n"
   ]
  },
  {
   "cell_type": "markdown",
   "id": "5489a993-cfc5-4163-9cd6-fb63d596db35",
   "metadata": {},
   "source": [
    "- ##### <font color='navy'> Compute the regression of '_VEGESU1' as a function of 'INCOME2' using SciPy's linregress().\n",
    "\n",
    "\n",
    "- ##### <font color='navy'> Compute the regression of '_VEGESU1' as a function of 'INCOME2' using StatsModels' smf.ols().\n",
    "\n",
    "\n",
    "\n",
    "\n",
    "</font>\n",
    "\n"
   ]
  },
  {
   "cell_type": "code",
   "execution_count": 126,
   "id": "ba69d79e-43bd-45a5-98d7-4829a6ba418b",
   "metadata": {},
   "outputs": [
    {
     "name": "stdout",
     "output_type": "stream",
     "text": [
      "LinregressResult(slope=0.07000027412424817, intercept=1.5413758521321232, rvalue=0.11526352353306703, pvalue=0.0015115444024927935, stderr=0.021983967667553426, intercept_stderr=0.1391883671176333)\n",
      "------------------------------\n",
      "Intercept    1.541376\n",
      "INCOME2      0.070000\n",
      "dtype: float64\n"
     ]
    }
   ],
   "source": [
    "from scipy.stats import linregress\n",
    "import statsmodels.formula.api as smf\n",
    "\n",
    "# Run regression with linregress\n",
    "subset = brfss.dropna(subset=['INCOME2', '_VEGESU1'])\n",
    "xs = subset['INCOME2']\n",
    "ys = subset['_VEGESU1']\n",
    "res = linregress(xs, ys)\n",
    "print(res)\n",
    "\n",
    "print(\"------------------------------\")\n",
    "\n",
    "\n",
    "\n",
    "# Run regression with StatsModels\n",
    "results = smf.ols('_VEGESU1 ~ INCOME2', data=brfss).fit()\n",
    "print(results.params)"
   ]
  },
  {
   "cell_type": "markdown",
   "id": "a9e612fb-c37c-44cf-ace3-f823a3dba5e6",
   "metadata": {},
   "source": [
    "<div class=\"alert alert-block alert-warning\">\n",
    "<b>4.2 Plot income and education\n",
    "   \n",
    "\n",
    "\n",
    "\n",
    "\n",
    "\n",
    "</b> \n",
    "\n",
    "</div>"
   ]
  },
  {
   "cell_type": "markdown",
   "id": "6693c0ac-7a9f-40bd-83d1-7469dcef54bc",
   "metadata": {},
   "source": [
    "To get a closer look at the relationship between income and education, let's use the variable 'educ' to group the data, then plot mean income in each group.\n",
    "\n",
    "Here, the GSS dataset has been pre-loaded into a DataFrame called gss."
   ]
  },
  {
   "cell_type": "markdown",
   "id": "b97b48f7-cb32-4863-94d4-048944e474e5",
   "metadata": {},
   "source": [
    "- ##### <font color='navy'> Group gss by 'educ'. Store the result in grouped.\n",
    "\n",
    "</font>\n",
    "\n"
   ]
  },
  {
   "cell_type": "code",
   "execution_count": 129,
   "id": "3b333e75-7731-4c9a-83da-12515488ee33",
   "metadata": {},
   "outputs": [],
   "source": [
    "# Group by educ\n",
    "grouped = gss.groupby(\"educ\")\n"
   ]
  },
  {
   "cell_type": "markdown",
   "id": "d995de9d-4e05-4681-92a4-04152b787262",
   "metadata": {},
   "source": [
    "- ##### <font color='navy'> From grouped, extraxt 'realinc' and compute the mean\n",
    "\n",
    "</font>\n",
    "\n"
   ]
  },
  {
   "cell_type": "code",
   "execution_count": 132,
   "id": "3a928cef-7597-4bd0-a979-4a963e3b959a",
   "metadata": {},
   "outputs": [],
   "source": [
    "# Compute mean income in each group\n",
    "mean_income_by_educ = grouped['realinc'].mean()\n"
   ]
  },
  {
   "cell_type": "markdown",
   "id": "ba11fbef-d024-4f46-a189-d4f926736f39",
   "metadata": {},
   "source": [
    "- ##### <font color='navy'> Plot mean_income_by_educ as a scatter plot. Specify 'o' and alpha=0.5.\n",
    "\n",
    "</font>\n",
    "\n"
   ]
  },
  {
   "cell_type": "code",
   "execution_count": 136,
   "id": "bae25b40-9622-4eb1-9249-007c22435553",
   "metadata": {},
   "outputs": [
    {
     "data": {
      "image/png": "[encoded data removed]",
      "text/plain": [
       "<Figure size 1800x864 with 1 Axes>"
      ]
     },
     "metadata": {
      "needs_background": "light"
     },
     "output_type": "display_data"
    }
   ],
   "source": [
    "# Plot mean income as a scatter plot\n",
    "plt.clf()\n",
    "plt.plot(mean_income_by_educ, 'o', alpha=0.5)\n",
    "\n",
    "# Label the axes\n",
    "plt.xlabel('Education (years)')\n",
    "plt.ylabel('Income (1986 $)')\n",
    "plt.show()"
   ]
  },
  {
   "cell_type": "markdown",
   "id": "0df34dfa-2267-409d-929b-3ee2c4e0515e",
   "metadata": {},
   "source": [
    "<div class=\"alert alert-block alert-warning\">\n",
    "<b>4.3 Non-linear model of education\n",
    "\n",
    "   \n",
    "\n",
    "\n",
    "\n",
    "\n",
    "\n",
    "</b> \n",
    "\n",
    "</div>"
   ]
  },
  {
   "cell_type": "markdown",
   "id": "a52bc298-bdea-4b09-98b8-2b24d0f27f1d",
   "metadata": {},
   "source": [
    "The graph in the previous exercise suggests that the relationship between income and education is non-linear. So let's try fitting a non-linear model.\n"
   ]
  },
  {
   "cell_type": "markdown",
   "id": "d0d35131-7896-4fc1-8809-1c64cecb8e9c",
   "metadata": {},
   "source": [
    "- ##### <font color='navy'> Add a column named 'educ2' to the gss DataFrame; it should contain the values from 'educ' squared.\n",
    "\n",
    "</font>\n",
    "\n"
   ]
  },
  {
   "cell_type": "code",
   "execution_count": 137,
   "id": "08f88594-0e8a-46ea-a9db-7459fddb1513",
   "metadata": {},
   "outputs": [],
   "source": [
    "import statsmodels.formula.api as smf\n",
    "\n",
    "# Add a new column with educ squared\n",
    "gss['educ2'] = gss.educ**2"
   ]
  },
  {
   "cell_type": "code",
   "execution_count": 140,
   "id": "56770f64-36d0-4618-86d7-1fd680e60abb",
   "metadata": {},
   "outputs": [],
   "source": [
    "# Add a new column with age squared\n",
    "gss['age2'] = gss.age**2"
   ]
  },
  {
   "cell_type": "markdown",
   "id": "fdbf04dc-2fd1-4063-9e27-ac0e3a10f2e2",
   "metadata": {},
   "source": [
    "- ##### <font color='navy'> Run a regression model that uses 'educ', 'educ2', 'age', and 'age2' to predict 'realinc'.\n",
    "</font>\n",
    "\n"
   ]
  },
  {
   "cell_type": "code",
   "execution_count": 141,
   "id": "6a57c761-c3f2-46f3-8c08-6fe16d31509c",
   "metadata": {},
   "outputs": [
    {
     "data": {
      "text/html": [
       "<div>\n",
       "<style scoped>\n",
       "    .dataframe tbody tr th:only-of-type {\n",
       "        vertical-align: middle;\n",
       "    }\n",
       "\n",
       "    .dataframe tbody tr th {\n",
       "        vertical-align: top;\n",
       "    }\n",
       "\n",
       "    .dataframe thead th {\n",
       "        text-align: right;\n",
       "    }\n",
       "</style>\n",
       "<table border=\"1\" class=\"dataframe\">\n",
       "  <thead>\n",
       "    <tr style=\"text-align: right;\">\n",
       "      <th></th>\n",
       "      <th>year</th>\n",
       "      <th>age</th>\n",
       "      <th>cohort</th>\n",
       "      <th>sex</th>\n",
       "      <th>race</th>\n",
       "      <th>educ</th>\n",
       "      <th>realinc</th>\n",
       "      <th>gunlaw</th>\n",
       "      <th>grass</th>\n",
       "      <th>wtssall</th>\n",
       "      <th>educ2</th>\n",
       "      <th>age2</th>\n",
       "    </tr>\n",
       "  </thead>\n",
       "  <tbody>\n",
       "    <tr>\n",
       "      <th>0</th>\n",
       "      <td>1972</td>\n",
       "      <td>26.0</td>\n",
       "      <td>1946.0</td>\n",
       "      <td>1</td>\n",
       "      <td>1</td>\n",
       "      <td>18.0</td>\n",
       "      <td>13537.0</td>\n",
       "      <td>2.0</td>\n",
       "      <td>NaN</td>\n",
       "      <td>0.8893</td>\n",
       "      <td>324.0</td>\n",
       "      <td>676.0</td>\n",
       "    </tr>\n",
       "    <tr>\n",
       "      <th>1</th>\n",
       "      <td>1972</td>\n",
       "      <td>38.0</td>\n",
       "      <td>1934.0</td>\n",
       "      <td>2</td>\n",
       "      <td>1</td>\n",
       "      <td>12.0</td>\n",
       "      <td>18951.0</td>\n",
       "      <td>1.0</td>\n",
       "      <td>NaN</td>\n",
       "      <td>0.4446</td>\n",
       "      <td>144.0</td>\n",
       "      <td>1444.0</td>\n",
       "    </tr>\n",
       "    <tr>\n",
       "      <th>2</th>\n",
       "      <td>1972</td>\n",
       "      <td>57.0</td>\n",
       "      <td>1915.0</td>\n",
       "      <td>1</td>\n",
       "      <td>1</td>\n",
       "      <td>12.0</td>\n",
       "      <td>30458.0</td>\n",
       "      <td>1.0</td>\n",
       "      <td>NaN</td>\n",
       "      <td>1.3339</td>\n",
       "      <td>144.0</td>\n",
       "      <td>3249.0</td>\n",
       "    </tr>\n",
       "    <tr>\n",
       "      <th>3</th>\n",
       "      <td>1972</td>\n",
       "      <td>61.0</td>\n",
       "      <td>1911.0</td>\n",
       "      <td>2</td>\n",
       "      <td>1</td>\n",
       "      <td>14.0</td>\n",
       "      <td>37226.0</td>\n",
       "      <td>1.0</td>\n",
       "      <td>NaN</td>\n",
       "      <td>0.8893</td>\n",
       "      <td>196.0</td>\n",
       "      <td>3721.0</td>\n",
       "    </tr>\n",
       "    <tr>\n",
       "      <th>4</th>\n",
       "      <td>1972</td>\n",
       "      <td>59.0</td>\n",
       "      <td>1913.0</td>\n",
       "      <td>1</td>\n",
       "      <td>1</td>\n",
       "      <td>12.0</td>\n",
       "      <td>30458.0</td>\n",
       "      <td>2.0</td>\n",
       "      <td>NaN</td>\n",
       "      <td>0.8893</td>\n",
       "      <td>144.0</td>\n",
       "      <td>3481.0</td>\n",
       "    </tr>\n",
       "  </tbody>\n",
       "</table>\n",
       "</div>"
      ],
      "text/plain": [
       "   year   age  cohort  sex  race  educ  realinc  gunlaw  grass  wtssall  \\\n",
       "0  1972  26.0  1946.0    1     1  18.0  13537.0     2.0    NaN   0.8893   \n",
       "1  1972  38.0  1934.0    2     1  12.0  18951.0     1.0    NaN   0.4446   \n",
       "2  1972  57.0  1915.0    1     1  12.0  30458.0     1.0    NaN   1.3339   \n",
       "3  1972  61.0  1911.0    2     1  14.0  37226.0     1.0    NaN   0.8893   \n",
       "4  1972  59.0  1913.0    1     1  12.0  30458.0     2.0    NaN   0.8893   \n",
       "\n",
       "   educ2    age2  \n",
       "0  324.0   676.0  \n",
       "1  144.0  1444.0  \n",
       "2  144.0  3249.0  \n",
       "3  196.0  3721.0  \n",
       "4  144.0  3481.0  "
      ]
     },
     "execution_count": 141,
     "metadata": {},
     "output_type": "execute_result"
    }
   ],
   "source": [
    "gss.head()"
   ]
  },
  {
   "cell_type": "code",
   "execution_count": 142,
   "id": "40948a89-1861-4819-89cc-a2d12215900d",
   "metadata": {},
   "outputs": [
    {
     "name": "stdout",
     "output_type": "stream",
     "text": [
      "Intercept   -23241.884034\n",
      "educ          -528.309369\n",
      "educ2          159.966740\n",
      "age           1696.717149\n",
      "age2           -17.196984\n",
      "dtype: float64\n"
     ]
    }
   ],
   "source": [
    "# Run a regression model with educ, educ2, age, and age2\n",
    "results = smf.ols('realinc ~ educ + educ2 + age + age2', data=gss).fit()\n",
    "\n",
    "# Print the estimated parameters\n",
    "print(results.params)"
   ]
  },
  {
   "cell_type": "markdown",
   "id": "d9c46c0d-bb56-4667-992d-1bedfc4708e8",
   "metadata": {},
   "source": [
    "<div class=\"alert alert-block alert-warning\">\n",
    "<b>4.4 Making predictions\n",
    "\n",
    "   \n",
    "\n",
    "\n",
    "\n",
    "\n",
    "\n",
    "</b> \n",
    "\n",
    "</div>"
   ]
  },
  {
   "cell_type": "markdown",
   "id": "78ce25c5-7a90-4716-8787-848678e2c664",
   "metadata": {},
   "source": [
    "At this point, we have a model that predicts income using age, education, and sex.\n",
    "\n",
    "Let's see what it predicts for different levels of education, holding age constant."
   ]
  },
  {
   "cell_type": "markdown",
   "id": "cc01326b-139a-4a02-88be-bd904fe374eb",
   "metadata": {},
   "source": [
    "- ##### <font color='navy'> Using np.linspace(), add a variable named 'educ' to df with a range of values from 0 to 20.\n",
    "</font>\n",
    "\n",
    "- ##### <font color='navy'> Add a variable named 'age' with the constant value 30.\n",
    "</font>\n",
    "\n",
    "\n",
    "- ##### <font color='navy'> Use df to generate predicted income as a function of education.\n",
    "</font>\n",
    "\n",
    "\n"
   ]
  },
  {
   "cell_type": "code",
   "execution_count": 160,
   "id": "392f7112-a3ae-438e-811a-7ec6ef92eb63",
   "metadata": {},
   "outputs": [
    {
     "name": "stdout",
     "output_type": "stream",
     "text": [
      "       educ  age     educ2  age2\n",
      "0  0.000000   30  0.000000   900\n",
      "1  0.408163   30  0.166597   900\n",
      "2  0.816327   30  0.666389   900\n",
      "3  1.224490   30  1.499375   900\n",
      "4  1.632653   30  2.665556   900\n",
      "---------\n",
      "0    12182.344976\n",
      "1    11993.358518\n",
      "2    11857.672098\n",
      "3    11775.285717\n",
      "4    11746.199374\n",
      "dtype: float64\n"
     ]
    }
   ],
   "source": [
    "# Run a regression model with educ, educ2, age, and age2\n",
    "results = smf.ols('realinc ~ educ + educ2 + age + age2', data=gss).fit()\n",
    "\n",
    "# Make the DataFrame\n",
    "df = pd.DataFrame()\n",
    "df['educ'] = np.linspace(0, 20)\n",
    "df['age'] = 30\n",
    "df['educ2'] = df['educ']**2\n",
    "df['age2'] = df['age']**2\n",
    "\n",
    "print(df.head())\n",
    "\n",
    "print(\"---------\")\n",
    "\n",
    "# Generate and plot the predictions\n",
    "pred = results.predict(df)\n",
    "print(pred.head())"
   ]
  },
  {
   "cell_type": "markdown",
   "id": "8f4c0552-5134-418f-9f1c-542dd9e4f5f9",
   "metadata": {},
   "source": [
    "<div class=\"alert alert-block alert-warning\">\n",
    "<b>4.5 Visualizing predictions\n",
    "\n",
    "   \n",
    "\n",
    "\n",
    "\n",
    "\n",
    "\n",
    "</b> \n",
    "\n",
    "</div>"
   ]
  },
  {
   "cell_type": "markdown",
   "id": "31004152-f8ae-4b34-8723-891a7d4b5ca7",
   "metadata": {},
   "source": [
    "Now let's visualize the results from the previous exercise!\n",
    "\n"
   ]
  },
  {
   "cell_type": "markdown",
   "id": "ff8af1e6-cfdd-48df-a733-164f3f6477a6",
   "metadata": {},
   "source": [
    "- ##### <font color='navy'> Plot mean_income_by_educ using circles ('o'). Specify an alpha of 0.5.\n",
    "</font>\n",
    "\n",
    "- ##### <font color='navy'> Plot the prediction results with a line, with df['educ'] on the x-axis and pred on the y-axis.\n",
    "\n",
    "</font>\n"
   ]
  },
  {
   "cell_type": "code",
   "execution_count": 161,
   "id": "665ae3b6-7117-493d-9cd7-4c55c3bb6c54",
   "metadata": {},
   "outputs": [
    {
     "data": {
      "image/png": "[encoded data removed]",
      "text/plain": [
       "<Figure size 1800x864 with 1 Axes>"
      ]
     },
     "metadata": {
      "needs_background": "light"
     },
     "output_type": "display_data"
    }
   ],
   "source": [
    "# Plot mean income in each age group\n",
    "plt.clf()\n",
    "grouped = gss.groupby('educ')\n",
    "mean_income_by_educ = grouped['realinc'].mean()\n",
    "\n",
    "plt.plot(mean_income_by_educ, 'o', alpha=0.5)\n",
    "\n",
    "# Plot the predictions\n",
    "plt.plot(df['educ'], pred, label='Age 30')\n",
    "\n",
    "# Label axes\n",
    "plt.xlabel('Education (years)')\n",
    "plt.ylabel('Income (1986 $)')\n",
    "plt.legend()\n",
    "plt.show()\n",
    "\n"
   ]
  },
  {
   "cell_type": "markdown",
   "id": "832116a4-6a2f-4056-9d10-d2446e040856",
   "metadata": {},
   "source": [
    "<div class=\"alert alert-block alert-warning\">\n",
    "<b>4.6 Predicting a binary variable\n",
    "\n",
    "   \n",
    "\n",
    "\n",
    "\n",
    "\n",
    "\n",
    "</b> \n",
    "\n",
    "</div>"
   ]
  },
  {
   "cell_type": "markdown",
   "id": "60b2f438-24bc-4f73-b442-dc561c186a7c",
   "metadata": {},
   "source": [
    "Let's use logistic regression to predict a binary variable. Specifically, we'll use age, sex, and education level to predict support for legalizing cannabis (marijuana) in the U.S.\n",
    "\n",
    "In the GSS dataset, the variable grass records the answer to the question \"Do you think the use of marijuana should be made legal or not?\""
   ]
  },
  {
   "cell_type": "markdown",
   "id": "e87ab28c-0fa2-49a5-80df-8d035cbda4b1",
   "metadata": {},
   "source": [
    "- ##### <font color='navy'> Fill in the parameters of smf.logit() to predict grass using the variables age, age2, educ, and educ2, along with sex as a categorical variable.\n",
    "    \n",
    "</font>\n",
    "\n"
   ]
  },
  {
   "cell_type": "code",
   "execution_count": 162,
   "id": "5965cf49-5372-4f15-8710-78b446006bb8",
   "metadata": {},
   "outputs": [
    {
     "name": "stdout",
     "output_type": "stream",
     "text": [
      "Optimization terminated successfully.\n",
      "         Current function value: 0.588510\n",
      "         Iterations 6\n"
     ]
    },
    {
     "data": {
      "text/plain": [
       "Intercept     -1.685223\n",
       "C(sex)[T.2]   -0.384611\n",
       "age           -0.034756\n",
       "age2           0.000192\n",
       "educ           0.221860\n",
       "educ2         -0.004163\n",
       "dtype: float64"
      ]
     },
     "execution_count": 162,
     "metadata": {},
     "output_type": "execute_result"
    }
   ],
   "source": [
    "# Recode grass\n",
    "gss['grass'].replace(2, 0, inplace=True)\n",
    "\n",
    "# Run logistic regression\n",
    "formula = 'grass ~ age + age2 + educ + educ2 + C(sex)'\n",
    "\n",
    "results = smf.logit(formula, data=gss).fit()\n",
    "results.params"
   ]
  },
  {
   "cell_type": "markdown",
   "id": "b810a8c2-3f79-4f87-8514-446b61a7dc89",
   "metadata": {},
   "source": [
    "- ##### <font color='navy'> Add a column called educ and set it to 12 years; then compute a second column, educ2, which is the square of educ.\n",
    "    \n",
    "</font>\n",
    "\n"
   ]
  },
  {
   "cell_type": "code",
   "execution_count": 163,
   "id": "99afcfac-cec7-4b2b-b945-8901b2278353",
   "metadata": {},
   "outputs": [],
   "source": [
    "# Make a DataFrame with a range of ages\n",
    "df = pd.DataFrame()\n",
    "df['age'] = np.linspace(18, 89)\n",
    "df['age2'] = df['age']**2\n",
    "\n",
    "# Set the education level to 12\n",
    "df['educ'] = 12\n",
    "df['educ2'] = df.educ**2"
   ]
  },
  {
   "cell_type": "markdown",
   "id": "775cf669-6d95-4f8f-a0aa-1f7ec8e94d50",
   "metadata": {},
   "source": [
    "- ##### <font color='navy'> Generate separate predictions for men and women.\n",
    "    \n",
    "</font>\n",
    "\n"
   ]
  },
  {
   "cell_type": "code",
   "execution_count": 164,
   "id": "3ff385d5-a687-4284-b2ad-20118503187e",
   "metadata": {},
   "outputs": [],
   "source": [
    "# Generate predictions for men and women\n",
    "df['sex'] = 1\n",
    "pred1 = results.predict(df)\n",
    "\n",
    "df['sex'] = 2\n",
    "pred2 = results.predict(df)"
   ]
  },
  {
   "cell_type": "markdown",
   "id": "fe761513-64b1-4779-b68e-12c5b876ddfc",
   "metadata": {},
   "source": [
    "- ##### <font color='navy'> Fill in the missing code to compute the mean of 'grass' for each age group, and then the arguments of plt.plot() to plot pred2 versus df['age'] with the label 'Female'.\n",
    "    \n",
    "</font>\n",
    "\n"
   ]
  },
  {
   "cell_type": "code",
   "execution_count": 166,
   "id": "c0e9b759-a343-40d3-9a4d-e5e31f4c179d",
   "metadata": {},
   "outputs": [
    {
     "data": {
      "image/png": "[encoded data removed]",
      "text/plain": [
       "<Figure size 1800x864 with 1 Axes>"
      ]
     },
     "metadata": {
      "needs_background": "light"
     },
     "output_type": "display_data"
    }
   ],
   "source": [
    "plt.clf()\n",
    "grouped = gss.groupby('age')\n",
    "favor_by_age = grouped['grass'].mean()\n",
    "plt.plot(favor_by_age, 'o', alpha=0.5)\n",
    "\n",
    "plt.plot(df['age'], pred1, label='Male')\n",
    "plt.plot(df['age'], pred2, label='Female')\n",
    "\n",
    "plt.xlabel('Age')\n",
    "plt.ylabel('Probability of favoring legalization')\n",
    "plt.legend()\n",
    "plt.show()"
   ]
  },
  {
   "cell_type": "markdown",
   "id": "8004bf47-8eac-493a-afe4-73d1f43c3975",
   "metadata": {},
   "source": [
    "<div class=\"alert alert-block alert-success\">\n",
    "<b>Outcome: </b> According to the model, as age increases, people are less likely to support legalizing cannabis (marijuana) in the U.S. Men are more likely to support it than women.\n",
    "</div>"
   ]
  },
  {
   "cell_type": "code",
   "execution_count": null,
   "id": "d76cf98f-4b9f-42f6-8620-85c9108121b2",
   "metadata": {},
   "outputs": [],
   "source": []
  },
  {
   "cell_type": "code",
   "execution_count": null,
   "id": "8ca500f4-c86d-4261-850d-dcb5a7b8ca35",
   "metadata": {},
   "outputs": [],
   "source": []
  }
 ],
 "metadata": {
  "kernelspec": {
   "display_name": "Python 3 (ipykernel)",
   "language": "python",
   "name": "python3"
  },
  "language_info": {
   "codemirror_mode": {
    "name": "ipython",
    "version": 3
   },
   "file_extension": ".py",
   "mimetype": "text/x-python",
   "name": "python",
   "nbconvert_exporter": "python",
   "pygments_lexer": "ipython3",
   "version": "3.8.8"
  }
 },
 "nbformat": 4,
 "nbformat_minor": 5
}
